{
 "cells": [
  {
   "cell_type": "markdown",
   "metadata": {},
   "source": [
    "# Big data parallel programming 2020\n",
    "### Project Description\n",
    "\n",
    "In order to pass the course you need to complete this project. You need to produce a program, write a report and make a presentation. You have to work individually for the assigned task. The aim of the project is for you to get some experience with applying the techniques you have learned about spark in a more open-ended setting. This is a good practice since it allows you to verify your understanding of the methods in practice and receive feedback on it.\n",
    "\n",
    "We encourage you to propose your own idea for the final project. If you have your own idea, you need to discuss it with us in order to decide whether your idea is suitable for a project in this course. We encourage machine learning/data mining projects, although other ideas may also get accepted.\n",
    "You should email a short description by `April 22nd` to `mahmoud.rahat@hh.se`. We will then give you feedback on the idea and further instructions.\n",
    "\n",
    "In any case the project has to satisfy the following requirements:\n",
    "1. The program has to be written using `Apache Spark framework,` and a significant portion of the code/computations needs to run in parallel.\n",
    "1. The program has to run on the cloud platform e.g, `Google cloud` or `IBM Watson studio`.\n",
    "1. The results from the program can be displayed or stored in a file in the cloud.\n",
    "\n",
    "__Notice:__ Although the general idea of Spark is to abstract away the scale of the data from the programmer, it is still a big plus if you demonstrate your project on a large amount of data.\n",
    "\n",
    "Some data sources that can be used to generate data, and you might want to consider in your project are:\n",
    "- Youtube videos from https://developers.google.com/youtube/v3/docs/videos\n",
    "- Data collected by Wikimedia from their di\u000b",
    "erent projects (among them the wikipedia)\n",
    "https://meta.wikimedia.org/wiki/Research:Data\n",
    "- Books from the Gutenberg project http://www.gutenberg.org/\n",
    "- Human activity data\n",
    "https://archive.ics.uci.edu/ml/datasets/human+activity+recognition+using+smartphones\n",
    "\n",
    "#### Teacher's suggestion for a project\n",
    "In case you do not have an idea of your own for a project you can always do this one.\n",
    "\n",
    "You are given a dataset called `data/ccdefault.csv`. The dataset represents default of credit card clients. It has 30,000 cases and 24 different attributes. More details about the dataset is available at `data/ccdefault.txt`. In this task you should make three models, compare their results and conclude the ideal solution. Here are the suggested steps:\n",
    "1. Load the data.\n",
    "2. Carry out some exploratory analyses (e.g., how various features and the target variable are distributed).\n",
    "3. Train a model to predict the target variable (risk of `default`).\n",
    "  - Employ three different models (logistic regression, decision tree, and random forest).\n",
    "  - Compare the models' performances (e.g., AUC).\n",
    "  - Defend your choice of best model (e.g., what are the strength and weaknesses of each of these models?).\n",
    "4. What more would you do with this data? Anything to help you devise a better solution e.g., feature selection/extraction/engineering?"
   ]
  }
 ],
 "metadata": {
  "kernelspec": {
   "display_name": "Python 3",
   "language": "python",
   "name": "python3"
  },
  "language_info": {
   "codemirror_mode": {
    "name": "ipython",
    "version": 3
   },
   "file_extension": ".py",
   "mimetype": "text/x-python",
   "name": "python",
   "nbconvert_exporter": "python",
   "pygments_lexer": "ipython3",
   "version": "3.7.5"
  }
 },
 "nbformat": 4,
 "nbformat_minor": 4
}
