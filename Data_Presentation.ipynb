{
 "cells": [
  {
   "cell_type": "markdown",
   "metadata": {},
   "source": [
    "# 1. Initialize Spark and the SparkSession"
   ]
  },
  {
   "cell_type": "code",
   "execution_count": 1,
   "metadata": {},
   "outputs": [
    {
     "data": {
      "text/html": [
       "\n",
       "            <div>\n",
       "                <p><b>SparkSession - in-memory</b></p>\n",
       "                \n",
       "        <div>\n",
       "            <p><b>SparkContext</b></p>\n",
       "\n",
       "            <p><a href=\"http://DESKTOP-G3Q4OR5:4040\">Spark UI</a></p>\n",
       "\n",
       "            <dl>\n",
       "              <dt>Version</dt>\n",
       "                <dd><code>v2.4.5</code></dd>\n",
       "              <dt>Master</dt>\n",
       "                <dd><code>local[*]</code></dd>\n",
       "              <dt>AppName</dt>\n",
       "                <dd><code>Spark Lab1</code></dd>\n",
       "            </dl>\n",
       "        </div>\n",
       "        \n",
       "            </div>\n",
       "        "
      ],
      "text/plain": [
       "<pyspark.sql.session.SparkSession at 0x1ddda445048>"
      ]
     },
     "execution_count": 1,
     "metadata": {},
     "output_type": "execute_result"
    }
   ],
   "source": [
    "from pyspark import SparkContext, SparkConf\n",
    "from pyspark.sql import SparkSession\n",
    "\n",
    "conf = SparkConf().setAppName('Spark Lab1')\n",
    "sc = SparkContext(conf=conf)\n",
    "\n",
    "spark = SparkSession \\\n",
    "    .builder \\\n",
    "    .appName(\"Spark Lab1\") \\\n",
    "    .config(\"spark.executor.memory\", \"10g\") \\\n",
    "    .getOrCreate()\n",
    "spark\n"
   ]
  },
  {
   "cell_type": "code",
   "execution_count": null,
   "metadata": {},
   "outputs": [],
   "source": [
    "spark.catalog.clearCache()"
   ]
  },
  {
   "cell_type": "markdown",
   "metadata": {},
   "source": [
    "# 2. Import data and plot initial data information"
   ]
  },
  {
   "cell_type": "code",
   "execution_count": 2,
   "metadata": {},
   "outputs": [
    {
     "name": "stdout",
     "output_type": "stream",
     "text": [
      "Total Dataset Length: 9002021\n",
      "Active Dataset Length: 100000\n",
      "+-----------+-----------+--------------+----------+--------------+--------------------+----------------+-----------+-------------+-----------+----+-----------------+--------------------+--------------------+-----------+\n",
      "|marketplace|customer_id|     review_id|product_id|product_parent|       product_title|product_category|star_rating|helpful_votes|total_votes|vine|verified_purchase|     review_headline|         review_body|review_date|\n",
      "+-----------+-----------+--------------+----------+--------------+--------------------+----------------+-----------+-------------+-----------+----+-----------------+--------------------+--------------------+-----------+\n",
      "|         US|   16414143|R3W4P9UBGNGH1U|B00YL0EKWE|     852431543|LG G4 Case Hard T...|        Wireless|          2|            1|          3|   N|                Y|Looks good, funct...|2 issues  -  Once...| 2015-08-31|\n",
      "|         US|   50800750|R15V54KBMTQWAY|B00XK95RPQ|     516894650|Selfie Stick Fibl...|        Wireless|          4|            0|          0|   N|                N| A fun little gadget|I’m embarrassed t...| 2015-08-31|\n",
      "|         US|   15184378| RY8I449HNXSVF|B00SXRXUKO|     984297154|Tribe AB40 Water ...|        Wireless|          5|            0|          0|   N|                Y|          Five Stars|  Fits iPhone 6 well| 2015-08-31|\n",
      "|         US|   10203548|R18TLJYCKJFLSR|B009V5X1CE|     279912704|RAVPower® Element...|        Wireless|          5|            0|          0|   N|                Y|       Great charger|Great charger.  I...| 2015-08-31|\n",
      "|         US|     488280|R1NK26SWS53B8Q|B00D93OVF0|     662791300|Fosmon Micro USB ...|        Wireless|          5|            0|          0|   N|                Y|          Five Stars|Great for the pri...| 2015-08-31|\n",
      "|         US|   13334021|R11LOHEDYJALTN|B00XVGJMDQ|     421688488|iPhone 6 Case, Vo...|        Wireless|          5|            0|          0|   N|                Y|          Five Stars|Great Case, bette...| 2015-08-31|\n",
      "|         US|   27520697|R3ALQVQB2P9LA7|B00KQW1X1C|     554285554|Nokia Lumia 630 R...|        Wireless|          4|            0|          0|   N|                Y|          Four Stars|Easy to set up an...| 2015-08-31|\n",
      "|         US|   48086021|R3MWLXLNO21PDQ|B00IP1MQNK|     488006702|Lumsing 10400mah ...|        Wireless|          5|            0|          0|   N|                Y|          Five Stars|         Works great| 2015-08-31|\n",
      "|         US|   12738196|R2L15IS24CX0LI|B00HVORET8|     389677711|iPhone 5S Battery...|        Wireless|          5|            0|          0|   N|                Y|      So far so good|So far so good. I...| 2015-08-31|\n",
      "|         US|   15867807|R1DJ8976WPWVZU|B00HX3G6J6|     299654876|HTC One M8 Screen...|        Wireless|          3|            0|          0|   N|                Y|seems durable but...|seems durable but...| 2015-08-31|\n",
      "|         US|    1972249|R3MRWNNR8CBTB7|B00U4NATNQ|     577878727|S6 Case - Bear Mo...|        Wireless|          5|            0|          0|   N|                Y|Super thin, light...|Super thin, light...| 2015-08-31|\n",
      "|         US|   10956619|R1DS6DKTUXAQK3|B00SZEFDH8|     654620704|BLU Studio X, Unl...|        Wireless|          5|            0|          0|   N|                Y|          Five Stars|As good as the Sa...| 2015-08-31|\n",
      "|         US|   14805911| RWJM5E0TWUJD2|B00JRJUL9U|     391166958|EZOPower 5-Port U...|        Wireless|          5|            0|          0|   N|                Y|            EZOPower|I received this o...| 2015-08-31|\n",
      "|         US|   15611116|R1XTJKDYNCRGAC|B00KQ4T0HE|     481551630|iPhone 6S Case &i...|        Wireless|          1|            0|          0|   N|                Y|Very cheap case. ...|Very cheap case. ...| 2015-08-31|\n",
      "|         US|   39298603|R2UZL3DPWEU1XW|B00M0YWKPM|     685107474| iPhone 6s Plus Case|        Wireless|          5|            0|          0|   N|                Y|          Five Stars|       son loves it.| 2015-08-31|\n",
      "|         US|   17552454|R2EZXET9KBFFU3|B00KDZEE68|     148320945|zBoost ZB575-A TR...|        Wireless|          1|            0|          0|   N|                Y|            One Star|you have to turn ...| 2015-08-31|\n",
      "|         US|   12218556|R26VY1L1FD3LPU|B00BJN45GM|      47788188|OtterBox Defender...|        Wireless|          5|            0|          0|   N|                Y|          Five Stars|  Awesome, thank you| 2015-08-31|\n",
      "|         US|   21872923|R2SSA4NSFCV18T|B00SA86SXW|     748759272|Aduro PowerUP 30W...|        Wireless|          5|            0|          0|   N|                N|          Five Stars|         nice, smart| 2015-08-31|\n",
      "|         US|   16264332|R1G6333JHJNEUQ|B00Q3I68TU|     974085141|LilGadgets Connec...|        Wireless|          5|            0|          0|   N|                Y|Great headphones ...|We love these hea...| 2015-08-31|\n",
      "|         US|    6042304|R2DRG0UZXJQ0PE|B00TN4J1TA|     716174627|Anker Aluminum Mu...|        Wireless|          5|            0|          0|   N|                Y|          Five Stars|This is well wort...| 2015-08-31|\n",
      "+-----------+-----------+--------------+----------+--------------+--------------------+----------------+-----------+-------------+-----------+----+-----------------+--------------------+--------------------+-----------+\n",
      "only showing top 20 rows\n",
      "\n"
     ]
    }
   ],
   "source": [
    "dataDF = spark.read.options(sep='\\t',header=True).csv('amazon_reviews_us_Wireless_v1_00.tsv')\n",
    "print(\"Total Dataset Length: {}\".format(dataDF.count()))\n",
    "dataDF.createOrReplaceTempView(\"reviewData\")\n",
    "reviewData = spark.sql(\"SELECT * FROM reviewData LIMIT 100000\") \n",
    "print(\"Active Dataset Length: {}\".format(reviewData.count()))\n",
    "reviewData.show()\n",
    "#https://www.amazon.com/gp/vine/help"
   ]
  },
  {
   "cell_type": "code",
   "execution_count": 3,
   "metadata": {},
   "outputs": [
    {
     "name": "stdout",
     "output_type": "stream",
     "text": [
      "root\n",
      " |-- marketplace: string (nullable = true)\n",
      " |-- customer_id: string (nullable = true)\n",
      " |-- review_id: string (nullable = true)\n",
      " |-- product_id: string (nullable = true)\n",
      " |-- product_parent: string (nullable = true)\n",
      " |-- product_title: string (nullable = true)\n",
      " |-- product_category: string (nullable = true)\n",
      " |-- star_rating: string (nullable = true)\n",
      " |-- helpful_votes: string (nullable = true)\n",
      " |-- total_votes: string (nullable = true)\n",
      " |-- vine: string (nullable = true)\n",
      " |-- verified_purchase: string (nullable = true)\n",
      " |-- review_headline: string (nullable = true)\n",
      " |-- review_body: string (nullable = true)\n",
      " |-- review_date: string (nullable = true)\n",
      "\n"
     ]
    }
   ],
   "source": [
    "reviewData.printSchema()"
   ]
  },
  {
   "cell_type": "markdown",
   "metadata": {},
   "source": [
    "# Construct DF with id to title for extraction later"
   ]
  },
  {
   "cell_type": "code",
   "execution_count": 3,
   "metadata": {},
   "outputs": [
    {
     "name": "stdout",
     "output_type": "stream",
     "text": [
      "+----------+--------------------+\n",
      "|product_id|       product_title|\n",
      "+----------+--------------------+\n",
      "|B00YL0EKWE|LG G4 Case Hard T...|\n",
      "|B00XK95RPQ|Selfie Stick Fibl...|\n",
      "|B00SXRXUKO|Tribe AB40 Water ...|\n",
      "|B009V5X1CE|RAVPower® Element...|\n",
      "|B00D93OVF0|Fosmon Micro USB ...|\n",
      "|B00XVGJMDQ|iPhone 6 Case, Vo...|\n",
      "|B00KQW1X1C|Nokia Lumia 630 R...|\n",
      "|B00IP1MQNK|Lumsing 10400mah ...|\n",
      "|B00HVORET8|iPhone 5S Battery...|\n",
      "|B00HX3G6J6|HTC One M8 Screen...|\n",
      "|B00U4NATNQ|S6 Case - Bear Mo...|\n",
      "|B00SZEFDH8|BLU Studio X, Unl...|\n",
      "|B00JRJUL9U|EZOPower 5-Port U...|\n",
      "|B00KQ4T0HE|iPhone 6S Case &i...|\n",
      "|B00M0YWKPM| iPhone 6s Plus Case|\n",
      "|B00KDZEE68|zBoost ZB575-A TR...|\n",
      "|B00BJN45GM|OtterBox Defender...|\n",
      "|B00SA86SXW|Aduro PowerUP 30W...|\n",
      "|B00Q3I68TU|LilGadgets Connec...|\n",
      "|B00TN4J1TA|Anker Aluminum Mu...|\n",
      "+----------+--------------------+\n",
      "only showing top 20 rows\n",
      "\n"
     ]
    }
   ],
   "source": [
    "productIdToTitle = reviewData.select(\"product_id\",\"product_title\").distinct()\n",
    "productIdToTitle.show()"
   ]
  },
  {
   "cell_type": "markdown",
   "metadata": {},
   "source": [
    "# 3. Drop uninteresting columns and rows with missing data or error in input. Also filter out rows without verified purchase and drop the verified purchase column. Also convert vine column to integers instead of Y/N"
   ]
  },
  {
   "cell_type": "code",
   "execution_count": 4,
   "metadata": {},
   "outputs": [
    {
     "name": "stdout",
     "output_type": "stream",
     "text": [
      "+-----------+--------------+----------+--------------+--------------------+-----------+-------------+-----------+----+--------------------+--------------------+-----------+\n",
      "|customer_id|     review_id|product_id|product_parent|       product_title|star_rating|helpful_votes|total_votes|vine|     review_headline|         review_body|review_date|\n",
      "+-----------+--------------+----------+--------------+--------------------+-----------+-------------+-----------+----+--------------------+--------------------+-----------+\n",
      "|   16414143|R3W4P9UBGNGH1U|B00YL0EKWE|     852431543|LG G4 Case Hard T...|          2|            1|          3|   0|Looks good, funct...|2 issues  -  Once...| 2015-08-31|\n",
      "|   15184378| RY8I449HNXSVF|B00SXRXUKO|     984297154|Tribe AB40 Water ...|          5|            0|          0|   0|          Five Stars|  Fits iPhone 6 well| 2015-08-31|\n",
      "|   10203548|R18TLJYCKJFLSR|B009V5X1CE|     279912704|RAVPower® Element...|          5|            0|          0|   0|       Great charger|Great charger.  I...| 2015-08-31|\n",
      "|     488280|R1NK26SWS53B8Q|B00D93OVF0|     662791300|Fosmon Micro USB ...|          5|            0|          0|   0|          Five Stars|Great for the pri...| 2015-08-31|\n",
      "|   13334021|R11LOHEDYJALTN|B00XVGJMDQ|     421688488|iPhone 6 Case, Vo...|          5|            0|          0|   0|          Five Stars|Great Case, bette...| 2015-08-31|\n",
      "|   27520697|R3ALQVQB2P9LA7|B00KQW1X1C|     554285554|Nokia Lumia 630 R...|          4|            0|          0|   0|          Four Stars|Easy to set up an...| 2015-08-31|\n",
      "|   48086021|R3MWLXLNO21PDQ|B00IP1MQNK|     488006702|Lumsing 10400mah ...|          5|            0|          0|   0|          Five Stars|         Works great| 2015-08-31|\n",
      "|   12738196|R2L15IS24CX0LI|B00HVORET8|     389677711|iPhone 5S Battery...|          5|            0|          0|   0|      So far so good|So far so good. I...| 2015-08-31|\n",
      "|   15867807|R1DJ8976WPWVZU|B00HX3G6J6|     299654876|HTC One M8 Screen...|          3|            0|          0|   0|seems durable but...|seems durable but...| 2015-08-31|\n",
      "|    1972249|R3MRWNNR8CBTB7|B00U4NATNQ|     577878727|S6 Case - Bear Mo...|          5|            0|          0|   0|Super thin, light...|Super thin, light...| 2015-08-31|\n",
      "|   10956619|R1DS6DKTUXAQK3|B00SZEFDH8|     654620704|BLU Studio X, Unl...|          5|            0|          0|   0|          Five Stars|As good as the Sa...| 2015-08-31|\n",
      "|   14805911| RWJM5E0TWUJD2|B00JRJUL9U|     391166958|EZOPower 5-Port U...|          5|            0|          0|   0|            EZOPower|I received this o...| 2015-08-31|\n",
      "|   15611116|R1XTJKDYNCRGAC|B00KQ4T0HE|     481551630|iPhone 6S Case &i...|          1|            0|          0|   0|Very cheap case. ...|Very cheap case. ...| 2015-08-31|\n",
      "|   39298603|R2UZL3DPWEU1XW|B00M0YWKPM|     685107474| iPhone 6s Plus Case|          5|            0|          0|   0|          Five Stars|       son loves it.| 2015-08-31|\n",
      "|   17552454|R2EZXET9KBFFU3|B00KDZEE68|     148320945|zBoost ZB575-A TR...|          1|            0|          0|   0|            One Star|you have to turn ...| 2015-08-31|\n",
      "|   12218556|R26VY1L1FD3LPU|B00BJN45GM|      47788188|OtterBox Defender...|          5|            0|          0|   0|          Five Stars|  Awesome, thank you| 2015-08-31|\n",
      "|   16264332|R1G6333JHJNEUQ|B00Q3I68TU|     974085141|LilGadgets Connec...|          5|            0|          0|   0|Great headphones ...|We love these hea...| 2015-08-31|\n",
      "|    6042304|R2DRG0UZXJQ0PE|B00TN4J1TA|     716174627|Anker Aluminum Mu...|          5|            0|          0|   0|          Five Stars|This is well wort...| 2015-08-31|\n",
      "|    4811414|R3SPEGYBROLSP1|B00QQTFYAA|     194128090|S5 Cable, Galaxy ...|          1|            1|          1|   0|            One Star|This cord didn't ...| 2015-08-31|\n",
      "|   16060664|R3F2UCQP76K15C|B009NLTW60|     135929473|Kinivo BTC450 Blu...|          5|            0|          0|   0|I was later able ...|Initial review af...| 2015-08-31|\n",
      "+-----------+--------------+----------+--------------+--------------------+-----------+-------------+-----------+----+--------------------+--------------------+-----------+\n",
      "only showing top 20 rows\n",
      "\n"
     ]
    }
   ],
   "source": [
    "# Drop the marketplace column and product_category column since they are the same for every product\n",
    "\n",
    "reviewData = reviewData.drop(\"marketplace\",\"product_category\").dropna().dropDuplicates()\n",
    "\n",
    "reviewData = reviewData.filter(reviewData.verified_purchase == \"Y\")\n",
    "reviewData = reviewData.drop(\"verified_purchase\")\n",
    "\n",
    "\n",
    "reviewData_cleared = reviewData.replace([\"Y\",\"N\"],[\"1\",\"0\"],\"vine\")\n",
    "reviewData = reviewData_cleared.withColumn(\"vine\",reviewData_cleared.vine.cast(\"int\"))\n",
    "\n",
    "reviewData = reviewData.withColumn(\"star_rating\", reviewData.star_rating.cast(\"int\"))\n",
    "reviewData = reviewData.withColumn(\"helpful_votes\", reviewData.helpful_votes.cast(\"int\"))\n",
    "reviewData = reviewData.withColumn(\"total_votes\", reviewData.total_votes.cast(\"int\"))\n",
    "\n",
    "reviewData.show()"
   ]
  },
  {
   "cell_type": "markdown",
   "metadata": {},
   "source": [
    "# 4. Split review column into list and perform various filtering/cleaning"
   ]
  },
  {
   "cell_type": "code",
   "execution_count": 5,
   "metadata": {},
   "outputs": [
    {
     "name": "stdout",
     "output_type": "stream",
     "text": [
      "+-----------+--------------+----------+--------------+--------------------+-----------+-------------+-----------+----+--------------------+--------------------+-----------+\n",
      "|customer_id|     review_id|product_id|product_parent|       product_title|star_rating|helpful_votes|total_votes|vine|     review_headline|         review_body|review_date|\n",
      "+-----------+--------------+----------+--------------+--------------------+-----------+-------------+-----------+----+--------------------+--------------------+-----------+\n",
      "|   16414143|R3W4P9UBGNGH1U|B00YL0EKWE|     852431543|LG G4 Case Hard T...|          2|            1|          3|   0|Looks good, funct...|[issues, once, i,...| 2015-08-31|\n",
      "|   15184378| RY8I449HNXSVF|B00SXRXUKO|     984297154|Tribe AB40 Water ...|          5|            0|          0|   0|          Five Stars|[fits, iphone, well]| 2015-08-31|\n",
      "|   10203548|R18TLJYCKJFLSR|B009V5X1CE|     279912704|RAVPower® Element...|          5|            0|          0|   0|       Great charger|[great, charger, ...| 2015-08-31|\n",
      "|     488280|R1NK26SWS53B8Q|B00D93OVF0|     662791300|Fosmon Micro USB ...|          5|            0|          0|   0|          Five Stars|[great, for, the,...| 2015-08-31|\n",
      "|   13334021|R11LOHEDYJALTN|B00XVGJMDQ|     421688488|iPhone 6 Case, Vo...|          5|            0|          0|   0|          Five Stars|[great, case, bet...| 2015-08-31|\n",
      "|   27520697|R3ALQVQB2P9LA7|B00KQW1X1C|     554285554|Nokia Lumia 630 R...|          4|            0|          0|   0|          Four Stars|[easy, to, set, u...| 2015-08-31|\n",
      "|   48086021|R3MWLXLNO21PDQ|B00IP1MQNK|     488006702|Lumsing 10400mah ...|          5|            0|          0|   0|          Five Stars|      [works, great]| 2015-08-31|\n",
      "|   12738196|R2L15IS24CX0LI|B00HVORET8|     389677711|iPhone 5S Battery...|          5|            0|          0|   0|      So far so good|[so, far, so, goo...| 2015-08-31|\n",
      "|   15867807|R1DJ8976WPWVZU|B00HX3G6J6|     299654876|HTC One M8 Screen...|          3|            0|          0|   0|seems durable but...|[seems, durable, ...| 2015-08-31|\n",
      "|    1972249|R3MRWNNR8CBTB7|B00U4NATNQ|     577878727|S6 Case - Bear Mo...|          5|            0|          0|   0|Super thin, light...|[super, thin, lig...| 2015-08-31|\n",
      "|   10956619|R1DS6DKTUXAQK3|B00SZEFDH8|     654620704|BLU Studio X, Unl...|          5|            0|          0|   0|          Five Stars|[as, good, as, th...| 2015-08-31|\n",
      "|   14805911| RWJM5E0TWUJD2|B00JRJUL9U|     391166958|EZOPower 5-Port U...|          5|            0|          0|   0|            EZOPower|[i, received, thi...| 2015-08-31|\n",
      "|   15611116|R1XTJKDYNCRGAC|B00KQ4T0HE|     481551630|iPhone 6S Case &i...|          1|            0|          0|   0|Very cheap case. ...|[very, cheap, cas...| 2015-08-31|\n",
      "|   39298603|R2UZL3DPWEU1XW|B00M0YWKPM|     685107474| iPhone 6s Plus Case|          5|            0|          0|   0|          Five Stars|    [son, loves, it]| 2015-08-31|\n",
      "|   17552454|R2EZXET9KBFFU3|B00KDZEE68|     148320945|zBoost ZB575-A TR...|          1|            0|          0|   0|            One Star|[you, have, to, t...| 2015-08-31|\n",
      "|   12218556|R26VY1L1FD3LPU|B00BJN45GM|      47788188|OtterBox Defender...|          5|            0|          0|   0|          Five Stars|[awesome, thank, ...| 2015-08-31|\n",
      "|   16264332|R1G6333JHJNEUQ|B00Q3I68TU|     974085141|LilGadgets Connec...|          5|            0|          0|   0|Great headphones ...|[we, love, these,...| 2015-08-31|\n",
      "|    6042304|R2DRG0UZXJQ0PE|B00TN4J1TA|     716174627|Anker Aluminum Mu...|          5|            0|          0|   0|          Five Stars|[this, is, well, ...| 2015-08-31|\n",
      "|    4811414|R3SPEGYBROLSP1|B00QQTFYAA|     194128090|S5 Cable, Galaxy ...|          1|            1|          1|   0|            One Star|[this, cord, didn...| 2015-08-31|\n",
      "|   16060664|R3F2UCQP76K15C|B009NLTW60|     135929473|Kinivo BTC450 Blu...|          5|            0|          0|   0|I was later able ...|[initial, review,...| 2015-08-31|\n",
      "+-----------+--------------+----------+--------------+--------------------+-----------+-------------+-----------+----+--------------------+--------------------+-----------+\n",
      "only showing top 20 rows\n",
      "\n"
     ]
    }
   ],
   "source": [
    "import pyspark.sql.functions as sqlFunc\n",
    "\n",
    "\n",
    "# make review_body lower case\n",
    "reviewData_temp = reviewData.withColumn(\"review_body\",sqlFunc.lower(sqlFunc.col(\"review_body\")))\n",
    "\n",
    "\n",
    "# Clean data using various regex replacements\n",
    "# 1) Removing non-letters\n",
    "reviewData_temp = reviewData_temp.withColumn(\"review_body\",sqlFunc.regexp_replace(\"review_body\",\"[^a-zA-Z\\\\s]\",\"\"))\n",
    "# 2) Removing repetitive spaces\n",
    "reviewData_temp = reviewData_temp.withColumn(\"review_body\",sqlFunc.regexp_replace(\"review_body\",\"\\s{2,}\",\" \"))\n",
    "# 3) Removing spaces at start of word\n",
    "reviewData_temp = reviewData_temp.withColumn(\"review_body\",sqlFunc.regexp_replace(\"review_body\",\"^(\\s)\",\"\"))\n",
    "# Split review_body on space\n",
    "split_col = sqlFunc.split(reviewData_temp.review_body, ' ')\n",
    "# Replace \" \" with \"\"\n",
    "reviewData_cleaned = reviewData_temp.withColumn(\"review_body\", split_col).replace([\" \"],[\"\"],\"review_body\")\n",
    "reviewData_cleaned.show()\n",
    "\n"
   ]
  },
  {
   "cell_type": "markdown",
   "metadata": {},
   "source": [
    "# 5. Calculate Sentiment for each review"
   ]
  },
  {
   "cell_type": "code",
   "execution_count": 7,
   "metadata": {},
   "outputs": [
    {
     "name": "stderr",
     "output_type": "stream",
     "text": [
      "ERROR:py4j.java_gateway:An error occurred while trying to connect to the Java server (127.0.0.1:50750)\n",
      "Traceback (most recent call last):\n",
      "  File \"c:\\users\\andreas\\appdata\\local\\programs\\python\\python37\\lib\\site-packages\\py4j\\java_gateway.py\", line 929, in _get_connection\n",
      "    connection = self.deque.pop()\n",
      "IndexError: pop from an empty deque\n",
      "\n",
      "During handling of the above exception, another exception occurred:\n",
      "\n",
      "Traceback (most recent call last):\n",
      "  File \"c:\\users\\andreas\\appdata\\local\\programs\\python\\python37\\lib\\site-packages\\py4j\\java_gateway.py\", line 1067, in start\n",
      "    self.socket.connect((self.address, self.port))\n",
      "ConnectionRefusedError: [WinError 10061] Det gick inte att göra en anslutning eftersom måldatorn aktivt nekade det\n"
     ]
    },
    {
     "ename": "Py4JNetworkError",
     "evalue": "An error occurred while trying to connect to the Java server (127.0.0.1:50750)",
     "output_type": "error",
     "traceback": [
      "\u001b[1;31m---------------------------------------------------------------------------\u001b[0m",
      "\u001b[1;31mIndexError\u001b[0m                                Traceback (most recent call last)",
      "\u001b[1;32mc:\\users\\andreas\\appdata\\local\\programs\\python\\python37\\lib\\site-packages\\py4j\\java_gateway.py\u001b[0m in \u001b[0;36m_get_connection\u001b[1;34m(self)\u001b[0m\n\u001b[0;32m    928\u001b[0m         \u001b[1;32mtry\u001b[0m\u001b[1;33m:\u001b[0m\u001b[1;33m\u001b[0m\u001b[1;33m\u001b[0m\u001b[0m\n\u001b[1;32m--> 929\u001b[1;33m             \u001b[0mconnection\u001b[0m \u001b[1;33m=\u001b[0m \u001b[0mself\u001b[0m\u001b[1;33m.\u001b[0m\u001b[0mdeque\u001b[0m\u001b[1;33m.\u001b[0m\u001b[0mpop\u001b[0m\u001b[1;33m(\u001b[0m\u001b[1;33m)\u001b[0m\u001b[1;33m\u001b[0m\u001b[1;33m\u001b[0m\u001b[0m\n\u001b[0m\u001b[0;32m    930\u001b[0m         \u001b[1;32mexcept\u001b[0m \u001b[0mIndexError\u001b[0m\u001b[1;33m:\u001b[0m\u001b[1;33m\u001b[0m\u001b[1;33m\u001b[0m\u001b[0m\n",
      "\u001b[1;31mIndexError\u001b[0m: pop from an empty deque",
      "\nDuring handling of the above exception, another exception occurred:\n",
      "\u001b[1;31mConnectionRefusedError\u001b[0m                    Traceback (most recent call last)",
      "\u001b[1;32mc:\\users\\andreas\\appdata\\local\\programs\\python\\python37\\lib\\site-packages\\py4j\\java_gateway.py\u001b[0m in \u001b[0;36mstart\u001b[1;34m(self)\u001b[0m\n\u001b[0;32m   1066\u001b[0m         \u001b[1;32mtry\u001b[0m\u001b[1;33m:\u001b[0m\u001b[1;33m\u001b[0m\u001b[1;33m\u001b[0m\u001b[0m\n\u001b[1;32m-> 1067\u001b[1;33m             \u001b[0mself\u001b[0m\u001b[1;33m.\u001b[0m\u001b[0msocket\u001b[0m\u001b[1;33m.\u001b[0m\u001b[0mconnect\u001b[0m\u001b[1;33m(\u001b[0m\u001b[1;33m(\u001b[0m\u001b[0mself\u001b[0m\u001b[1;33m.\u001b[0m\u001b[0maddress\u001b[0m\u001b[1;33m,\u001b[0m \u001b[0mself\u001b[0m\u001b[1;33m.\u001b[0m\u001b[0mport\u001b[0m\u001b[1;33m)\u001b[0m\u001b[1;33m)\u001b[0m\u001b[1;33m\u001b[0m\u001b[1;33m\u001b[0m\u001b[0m\n\u001b[0m\u001b[0;32m   1068\u001b[0m             \u001b[0mself\u001b[0m\u001b[1;33m.\u001b[0m\u001b[0mstream\u001b[0m \u001b[1;33m=\u001b[0m \u001b[0mself\u001b[0m\u001b[1;33m.\u001b[0m\u001b[0msocket\u001b[0m\u001b[1;33m.\u001b[0m\u001b[0mmakefile\u001b[0m\u001b[1;33m(\u001b[0m\u001b[1;34m\"rb\"\u001b[0m\u001b[1;33m)\u001b[0m\u001b[1;33m\u001b[0m\u001b[1;33m\u001b[0m\u001b[0m\n",
      "\u001b[1;31mConnectionRefusedError\u001b[0m: [WinError 10061] Det gick inte att göra en anslutning eftersom måldatorn aktivt nekade det",
      "\nDuring handling of the above exception, another exception occurred:\n",
      "\u001b[1;31mPy4JNetworkError\u001b[0m                          Traceback (most recent call last)",
      "\u001b[1;32m<ipython-input-7-afe3d6630c2b>\u001b[0m in \u001b[0;36m<module>\u001b[1;34m\u001b[0m\n\u001b[0;32m      9\u001b[0m \u001b[0msentiment_udf\u001b[0m \u001b[1;33m=\u001b[0m \u001b[0mudf\u001b[0m\u001b[1;33m(\u001b[0m\u001b[0msentimentUDF\u001b[0m\u001b[1;33m,\u001b[0m\u001b[0mDoubleType\u001b[0m\u001b[1;33m(\u001b[0m\u001b[1;33m)\u001b[0m\u001b[1;33m)\u001b[0m\u001b[1;33m\u001b[0m\u001b[1;33m\u001b[0m\u001b[0m\n\u001b[0;32m     10\u001b[0m \u001b[1;33m\u001b[0m\u001b[0m\n\u001b[1;32m---> 11\u001b[1;33m \u001b[0mreviewData_wSent\u001b[0m \u001b[1;33m=\u001b[0m \u001b[0mreviewData_cleaned\u001b[0m\u001b[1;33m.\u001b[0m\u001b[0mwithColumn\u001b[0m\u001b[1;33m(\u001b[0m\u001b[1;34m\"review_sent\"\u001b[0m\u001b[1;33m,\u001b[0m \u001b[0msentiment_udf\u001b[0m\u001b[1;33m(\u001b[0m\u001b[1;34m\"review_body\"\u001b[0m\u001b[1;33m)\u001b[0m\u001b[1;33m)\u001b[0m\u001b[1;33m\u001b[0m\u001b[1;33m\u001b[0m\u001b[0m\n\u001b[0m\u001b[0;32m     12\u001b[0m \u001b[0mreviewData_wSent\u001b[0m\u001b[1;33m.\u001b[0m\u001b[0mshow\u001b[0m\u001b[1;33m(\u001b[0m\u001b[1;33m)\u001b[0m\u001b[1;33m\u001b[0m\u001b[1;33m\u001b[0m\u001b[0m\n",
      "\u001b[1;32mc:\\users\\andreas\\appdata\\local\\programs\\python\\python37\\lib\\site-packages\\pyspark\\sql\\udf.py\u001b[0m in \u001b[0;36mwrapper\u001b[1;34m(*args)\u001b[0m\n\u001b[0;32m    187\u001b[0m         \u001b[1;33m@\u001b[0m\u001b[0mfunctools\u001b[0m\u001b[1;33m.\u001b[0m\u001b[0mwraps\u001b[0m\u001b[1;33m(\u001b[0m\u001b[0mself\u001b[0m\u001b[1;33m.\u001b[0m\u001b[0mfunc\u001b[0m\u001b[1;33m,\u001b[0m \u001b[0massigned\u001b[0m\u001b[1;33m=\u001b[0m\u001b[0massignments\u001b[0m\u001b[1;33m)\u001b[0m\u001b[1;33m\u001b[0m\u001b[1;33m\u001b[0m\u001b[0m\n\u001b[0;32m    188\u001b[0m         \u001b[1;32mdef\u001b[0m \u001b[0mwrapper\u001b[0m\u001b[1;33m(\u001b[0m\u001b[1;33m*\u001b[0m\u001b[0margs\u001b[0m\u001b[1;33m)\u001b[0m\u001b[1;33m:\u001b[0m\u001b[1;33m\u001b[0m\u001b[1;33m\u001b[0m\u001b[0m\n\u001b[1;32m--> 189\u001b[1;33m             \u001b[1;32mreturn\u001b[0m \u001b[0mself\u001b[0m\u001b[1;33m(\u001b[0m\u001b[1;33m*\u001b[0m\u001b[0margs\u001b[0m\u001b[1;33m)\u001b[0m\u001b[1;33m\u001b[0m\u001b[1;33m\u001b[0m\u001b[0m\n\u001b[0m\u001b[0;32m    190\u001b[0m \u001b[1;33m\u001b[0m\u001b[0m\n\u001b[0;32m    191\u001b[0m         \u001b[0mwrapper\u001b[0m\u001b[1;33m.\u001b[0m\u001b[0m__name__\u001b[0m \u001b[1;33m=\u001b[0m \u001b[0mself\u001b[0m\u001b[1;33m.\u001b[0m\u001b[0m_name\u001b[0m\u001b[1;33m\u001b[0m\u001b[1;33m\u001b[0m\u001b[0m\n",
      "\u001b[1;32mc:\\users\\andreas\\appdata\\local\\programs\\python\\python37\\lib\\site-packages\\pyspark\\sql\\udf.py\u001b[0m in \u001b[0;36m__call__\u001b[1;34m(self, *cols)\u001b[0m\n\u001b[0;32m    165\u001b[0m \u001b[1;33m\u001b[0m\u001b[0m\n\u001b[0;32m    166\u001b[0m     \u001b[1;32mdef\u001b[0m \u001b[0m__call__\u001b[0m\u001b[1;33m(\u001b[0m\u001b[0mself\u001b[0m\u001b[1;33m,\u001b[0m \u001b[1;33m*\u001b[0m\u001b[0mcols\u001b[0m\u001b[1;33m)\u001b[0m\u001b[1;33m:\u001b[0m\u001b[1;33m\u001b[0m\u001b[1;33m\u001b[0m\u001b[0m\n\u001b[1;32m--> 167\u001b[1;33m         \u001b[0mjudf\u001b[0m \u001b[1;33m=\u001b[0m \u001b[0mself\u001b[0m\u001b[1;33m.\u001b[0m\u001b[0m_judf\u001b[0m\u001b[1;33m\u001b[0m\u001b[1;33m\u001b[0m\u001b[0m\n\u001b[0m\u001b[0;32m    168\u001b[0m         \u001b[0msc\u001b[0m \u001b[1;33m=\u001b[0m \u001b[0mSparkContext\u001b[0m\u001b[1;33m.\u001b[0m\u001b[0m_active_spark_context\u001b[0m\u001b[1;33m\u001b[0m\u001b[1;33m\u001b[0m\u001b[0m\n\u001b[0;32m    169\u001b[0m         \u001b[1;32mreturn\u001b[0m \u001b[0mColumn\u001b[0m\u001b[1;33m(\u001b[0m\u001b[0mjudf\u001b[0m\u001b[1;33m.\u001b[0m\u001b[0mapply\u001b[0m\u001b[1;33m(\u001b[0m\u001b[0m_to_seq\u001b[0m\u001b[1;33m(\u001b[0m\u001b[0msc\u001b[0m\u001b[1;33m,\u001b[0m \u001b[0mcols\u001b[0m\u001b[1;33m,\u001b[0m \u001b[0m_to_java_column\u001b[0m\u001b[1;33m)\u001b[0m\u001b[1;33m)\u001b[0m\u001b[1;33m)\u001b[0m\u001b[1;33m\u001b[0m\u001b[1;33m\u001b[0m\u001b[0m\n",
      "\u001b[1;32mc:\\users\\andreas\\appdata\\local\\programs\\python\\python37\\lib\\site-packages\\pyspark\\sql\\udf.py\u001b[0m in \u001b[0;36m_judf\u001b[1;34m(self)\u001b[0m\n\u001b[0;32m    149\u001b[0m         \u001b[1;31m# and should have a minimal performance impact.\u001b[0m\u001b[1;33m\u001b[0m\u001b[1;33m\u001b[0m\u001b[1;33m\u001b[0m\u001b[0m\n\u001b[0;32m    150\u001b[0m         \u001b[1;32mif\u001b[0m \u001b[0mself\u001b[0m\u001b[1;33m.\u001b[0m\u001b[0m_judf_placeholder\u001b[0m \u001b[1;32mis\u001b[0m \u001b[1;32mNone\u001b[0m\u001b[1;33m:\u001b[0m\u001b[1;33m\u001b[0m\u001b[1;33m\u001b[0m\u001b[0m\n\u001b[1;32m--> 151\u001b[1;33m             \u001b[0mself\u001b[0m\u001b[1;33m.\u001b[0m\u001b[0m_judf_placeholder\u001b[0m \u001b[1;33m=\u001b[0m \u001b[0mself\u001b[0m\u001b[1;33m.\u001b[0m\u001b[0m_create_judf\u001b[0m\u001b[1;33m(\u001b[0m\u001b[1;33m)\u001b[0m\u001b[1;33m\u001b[0m\u001b[1;33m\u001b[0m\u001b[0m\n\u001b[0m\u001b[0;32m    152\u001b[0m         \u001b[1;32mreturn\u001b[0m \u001b[0mself\u001b[0m\u001b[1;33m.\u001b[0m\u001b[0m_judf_placeholder\u001b[0m\u001b[1;33m\u001b[0m\u001b[1;33m\u001b[0m\u001b[0m\n\u001b[0;32m    153\u001b[0m \u001b[1;33m\u001b[0m\u001b[0m\n",
      "\u001b[1;32mc:\\users\\andreas\\appdata\\local\\programs\\python\\python37\\lib\\site-packages\\pyspark\\sql\\udf.py\u001b[0m in \u001b[0;36m_create_judf\u001b[1;34m(self)\u001b[0m\n\u001b[0;32m    155\u001b[0m         \u001b[1;32mfrom\u001b[0m \u001b[0mpyspark\u001b[0m\u001b[1;33m.\u001b[0m\u001b[0msql\u001b[0m \u001b[1;32mimport\u001b[0m \u001b[0mSparkSession\u001b[0m\u001b[1;33m\u001b[0m\u001b[1;33m\u001b[0m\u001b[0m\n\u001b[0;32m    156\u001b[0m \u001b[1;33m\u001b[0m\u001b[0m\n\u001b[1;32m--> 157\u001b[1;33m         \u001b[0mspark\u001b[0m \u001b[1;33m=\u001b[0m \u001b[0mSparkSession\u001b[0m\u001b[1;33m.\u001b[0m\u001b[0mbuilder\u001b[0m\u001b[1;33m.\u001b[0m\u001b[0mgetOrCreate\u001b[0m\u001b[1;33m(\u001b[0m\u001b[1;33m)\u001b[0m\u001b[1;33m\u001b[0m\u001b[1;33m\u001b[0m\u001b[0m\n\u001b[0m\u001b[0;32m    158\u001b[0m         \u001b[0msc\u001b[0m \u001b[1;33m=\u001b[0m \u001b[0mspark\u001b[0m\u001b[1;33m.\u001b[0m\u001b[0msparkContext\u001b[0m\u001b[1;33m\u001b[0m\u001b[1;33m\u001b[0m\u001b[0m\n\u001b[0;32m    159\u001b[0m \u001b[1;33m\u001b[0m\u001b[0m\n",
      "\u001b[1;32mc:\\users\\andreas\\appdata\\local\\programs\\python\\python37\\lib\\site-packages\\pyspark\\sql\\session.py\u001b[0m in \u001b[0;36mgetOrCreate\u001b[1;34m(self)\u001b[0m\n\u001b[0;32m    181\u001b[0m                     \u001b[0msession\u001b[0m \u001b[1;33m=\u001b[0m \u001b[0mSparkSession\u001b[0m\u001b[1;33m(\u001b[0m\u001b[0msc\u001b[0m\u001b[1;33m)\u001b[0m\u001b[1;33m\u001b[0m\u001b[1;33m\u001b[0m\u001b[0m\n\u001b[0;32m    182\u001b[0m                 \u001b[1;32mfor\u001b[0m \u001b[0mkey\u001b[0m\u001b[1;33m,\u001b[0m \u001b[0mvalue\u001b[0m \u001b[1;32min\u001b[0m \u001b[0mself\u001b[0m\u001b[1;33m.\u001b[0m\u001b[0m_options\u001b[0m\u001b[1;33m.\u001b[0m\u001b[0mitems\u001b[0m\u001b[1;33m(\u001b[0m\u001b[1;33m)\u001b[0m\u001b[1;33m:\u001b[0m\u001b[1;33m\u001b[0m\u001b[1;33m\u001b[0m\u001b[0m\n\u001b[1;32m--> 183\u001b[1;33m                     \u001b[0msession\u001b[0m\u001b[1;33m.\u001b[0m\u001b[0m_jsparkSession\u001b[0m\u001b[1;33m.\u001b[0m\u001b[0msessionState\u001b[0m\u001b[1;33m(\u001b[0m\u001b[1;33m)\u001b[0m\u001b[1;33m.\u001b[0m\u001b[0mconf\u001b[0m\u001b[1;33m(\u001b[0m\u001b[1;33m)\u001b[0m\u001b[1;33m.\u001b[0m\u001b[0msetConfString\u001b[0m\u001b[1;33m(\u001b[0m\u001b[0mkey\u001b[0m\u001b[1;33m,\u001b[0m \u001b[0mvalue\u001b[0m\u001b[1;33m)\u001b[0m\u001b[1;33m\u001b[0m\u001b[1;33m\u001b[0m\u001b[0m\n\u001b[0m\u001b[0;32m    184\u001b[0m                 \u001b[1;32mfor\u001b[0m \u001b[0mkey\u001b[0m\u001b[1;33m,\u001b[0m \u001b[0mvalue\u001b[0m \u001b[1;32min\u001b[0m \u001b[0mself\u001b[0m\u001b[1;33m.\u001b[0m\u001b[0m_options\u001b[0m\u001b[1;33m.\u001b[0m\u001b[0mitems\u001b[0m\u001b[1;33m(\u001b[0m\u001b[1;33m)\u001b[0m\u001b[1;33m:\u001b[0m\u001b[1;33m\u001b[0m\u001b[1;33m\u001b[0m\u001b[0m\n\u001b[0;32m    185\u001b[0m                     \u001b[0msession\u001b[0m\u001b[1;33m.\u001b[0m\u001b[0msparkContext\u001b[0m\u001b[1;33m.\u001b[0m\u001b[0m_conf\u001b[0m\u001b[1;33m.\u001b[0m\u001b[0mset\u001b[0m\u001b[1;33m(\u001b[0m\u001b[0mkey\u001b[0m\u001b[1;33m,\u001b[0m \u001b[0mvalue\u001b[0m\u001b[1;33m)\u001b[0m\u001b[1;33m\u001b[0m\u001b[1;33m\u001b[0m\u001b[0m\n",
      "\u001b[1;32mc:\\users\\andreas\\appdata\\local\\programs\\python\\python37\\lib\\site-packages\\py4j\\java_gateway.py\u001b[0m in \u001b[0;36m__call__\u001b[1;34m(self, *args)\u001b[0m\n\u001b[0;32m   1253\u001b[0m             \u001b[0mproto\u001b[0m\u001b[1;33m.\u001b[0m\u001b[0mEND_COMMAND_PART\u001b[0m\u001b[1;33m\u001b[0m\u001b[1;33m\u001b[0m\u001b[0m\n\u001b[0;32m   1254\u001b[0m \u001b[1;33m\u001b[0m\u001b[0m\n\u001b[1;32m-> 1255\u001b[1;33m         \u001b[0manswer\u001b[0m \u001b[1;33m=\u001b[0m \u001b[0mself\u001b[0m\u001b[1;33m.\u001b[0m\u001b[0mgateway_client\u001b[0m\u001b[1;33m.\u001b[0m\u001b[0msend_command\u001b[0m\u001b[1;33m(\u001b[0m\u001b[0mcommand\u001b[0m\u001b[1;33m)\u001b[0m\u001b[1;33m\u001b[0m\u001b[1;33m\u001b[0m\u001b[0m\n\u001b[0m\u001b[0;32m   1256\u001b[0m         return_value = get_return_value(\n\u001b[0;32m   1257\u001b[0m             answer, self.gateway_client, self.target_id, self.name)\n",
      "\u001b[1;32mc:\\users\\andreas\\appdata\\local\\programs\\python\\python37\\lib\\site-packages\\py4j\\java_gateway.py\u001b[0m in \u001b[0;36msend_command\u001b[1;34m(self, command, retry, binary)\u001b[0m\n\u001b[0;32m    981\u001b[0m          \u001b[1;32mif\u001b[0m\u001b[0;31m \u001b[0m\u001b[0;31m`\u001b[0m\u001b[0mbinary\u001b[0m\u001b[0;31m`\u001b[0m \u001b[1;32mis\u001b[0m\u001b[0;31m \u001b[0m\u001b[0;31m`\u001b[0m\u001b[1;32mTrue\u001b[0m\u001b[0;31m`\u001b[0m\u001b[1;33m.\u001b[0m\u001b[1;33m\u001b[0m\u001b[1;33m\u001b[0m\u001b[0m\n\u001b[0;32m    982\u001b[0m         \"\"\"\n\u001b[1;32m--> 983\u001b[1;33m         \u001b[0mconnection\u001b[0m \u001b[1;33m=\u001b[0m \u001b[0mself\u001b[0m\u001b[1;33m.\u001b[0m\u001b[0m_get_connection\u001b[0m\u001b[1;33m(\u001b[0m\u001b[1;33m)\u001b[0m\u001b[1;33m\u001b[0m\u001b[1;33m\u001b[0m\u001b[0m\n\u001b[0m\u001b[0;32m    984\u001b[0m         \u001b[1;32mtry\u001b[0m\u001b[1;33m:\u001b[0m\u001b[1;33m\u001b[0m\u001b[1;33m\u001b[0m\u001b[0m\n\u001b[0;32m    985\u001b[0m             \u001b[0mresponse\u001b[0m \u001b[1;33m=\u001b[0m \u001b[0mconnection\u001b[0m\u001b[1;33m.\u001b[0m\u001b[0msend_command\u001b[0m\u001b[1;33m(\u001b[0m\u001b[0mcommand\u001b[0m\u001b[1;33m)\u001b[0m\u001b[1;33m\u001b[0m\u001b[1;33m\u001b[0m\u001b[0m\n",
      "\u001b[1;32mc:\\users\\andreas\\appdata\\local\\programs\\python\\python37\\lib\\site-packages\\py4j\\java_gateway.py\u001b[0m in \u001b[0;36m_get_connection\u001b[1;34m(self)\u001b[0m\n\u001b[0;32m    929\u001b[0m             \u001b[0mconnection\u001b[0m \u001b[1;33m=\u001b[0m \u001b[0mself\u001b[0m\u001b[1;33m.\u001b[0m\u001b[0mdeque\u001b[0m\u001b[1;33m.\u001b[0m\u001b[0mpop\u001b[0m\u001b[1;33m(\u001b[0m\u001b[1;33m)\u001b[0m\u001b[1;33m\u001b[0m\u001b[1;33m\u001b[0m\u001b[0m\n\u001b[0;32m    930\u001b[0m         \u001b[1;32mexcept\u001b[0m \u001b[0mIndexError\u001b[0m\u001b[1;33m:\u001b[0m\u001b[1;33m\u001b[0m\u001b[1;33m\u001b[0m\u001b[0m\n\u001b[1;32m--> 931\u001b[1;33m             \u001b[0mconnection\u001b[0m \u001b[1;33m=\u001b[0m \u001b[0mself\u001b[0m\u001b[1;33m.\u001b[0m\u001b[0m_create_connection\u001b[0m\u001b[1;33m(\u001b[0m\u001b[1;33m)\u001b[0m\u001b[1;33m\u001b[0m\u001b[1;33m\u001b[0m\u001b[0m\n\u001b[0m\u001b[0;32m    932\u001b[0m         \u001b[1;32mreturn\u001b[0m \u001b[0mconnection\u001b[0m\u001b[1;33m\u001b[0m\u001b[1;33m\u001b[0m\u001b[0m\n\u001b[0;32m    933\u001b[0m \u001b[1;33m\u001b[0m\u001b[0m\n",
      "\u001b[1;32mc:\\users\\andreas\\appdata\\local\\programs\\python\\python37\\lib\\site-packages\\py4j\\java_gateway.py\u001b[0m in \u001b[0;36m_create_connection\u001b[1;34m(self)\u001b[0m\n\u001b[0;32m    935\u001b[0m         connection = GatewayConnection(\n\u001b[0;32m    936\u001b[0m             self.gateway_parameters, self.gateway_property)\n\u001b[1;32m--> 937\u001b[1;33m         \u001b[0mconnection\u001b[0m\u001b[1;33m.\u001b[0m\u001b[0mstart\u001b[0m\u001b[1;33m(\u001b[0m\u001b[1;33m)\u001b[0m\u001b[1;33m\u001b[0m\u001b[1;33m\u001b[0m\u001b[0m\n\u001b[0m\u001b[0;32m    938\u001b[0m         \u001b[1;32mreturn\u001b[0m \u001b[0mconnection\u001b[0m\u001b[1;33m\u001b[0m\u001b[1;33m\u001b[0m\u001b[0m\n\u001b[0;32m    939\u001b[0m \u001b[1;33m\u001b[0m\u001b[0m\n",
      "\u001b[1;32mc:\\users\\andreas\\appdata\\local\\programs\\python\\python37\\lib\\site-packages\\py4j\\java_gateway.py\u001b[0m in \u001b[0;36mstart\u001b[1;34m(self)\u001b[0m\n\u001b[0;32m   1077\u001b[0m                 \u001b[1;34m\"server ({0}:{1})\"\u001b[0m\u001b[1;33m.\u001b[0m\u001b[0mformat\u001b[0m\u001b[1;33m(\u001b[0m\u001b[0mself\u001b[0m\u001b[1;33m.\u001b[0m\u001b[0maddress\u001b[0m\u001b[1;33m,\u001b[0m \u001b[0mself\u001b[0m\u001b[1;33m.\u001b[0m\u001b[0mport\u001b[0m\u001b[1;33m)\u001b[0m\u001b[1;33m\u001b[0m\u001b[1;33m\u001b[0m\u001b[0m\n\u001b[0;32m   1078\u001b[0m             \u001b[0mlogger\u001b[0m\u001b[1;33m.\u001b[0m\u001b[0mexception\u001b[0m\u001b[1;33m(\u001b[0m\u001b[0mmsg\u001b[0m\u001b[1;33m)\u001b[0m\u001b[1;33m\u001b[0m\u001b[1;33m\u001b[0m\u001b[0m\n\u001b[1;32m-> 1079\u001b[1;33m             \u001b[1;32mraise\u001b[0m \u001b[0mPy4JNetworkError\u001b[0m\u001b[1;33m(\u001b[0m\u001b[0mmsg\u001b[0m\u001b[1;33m,\u001b[0m \u001b[0me\u001b[0m\u001b[1;33m)\u001b[0m\u001b[1;33m\u001b[0m\u001b[1;33m\u001b[0m\u001b[0m\n\u001b[0m\u001b[0;32m   1080\u001b[0m \u001b[1;33m\u001b[0m\u001b[0m\n\u001b[0;32m   1081\u001b[0m     \u001b[1;32mdef\u001b[0m \u001b[0m_authenticate_connection\u001b[0m\u001b[1;33m(\u001b[0m\u001b[0mself\u001b[0m\u001b[1;33m)\u001b[0m\u001b[1;33m:\u001b[0m\u001b[1;33m\u001b[0m\u001b[1;33m\u001b[0m\u001b[0m\n",
      "\u001b[1;31mPy4JNetworkError\u001b[0m: An error occurred while trying to connect to the Java server (127.0.0.1:50750)"
     ]
    }
   ],
   "source": [
    "from pyspark.sql.functions import udf\n",
    "from nltk.sentiment.vader import SentimentIntensityAnalyzer \n",
    "from pyspark.sql.types import DoubleType\n",
    "sent = SentimentIntensityAnalyzer()\n",
    "\n",
    "def sentimentUDF(revs):\n",
    "    return sent.polarity_scores(\" \".join(revs))[\"compound\"]\n",
    "\n",
    "sentiment_udf = udf(sentimentUDF,DoubleType())\n",
    "\n",
    "reviewData_wSent = reviewData_cleaned.withColumn(\"review_sent\", sentiment_udf(\"review_body\"))\n",
    "reviewData_wSent.show()\n"
   ]
  },
  {
   "cell_type": "code",
   "execution_count": 8,
   "metadata": {},
   "outputs": [
    {
     "name": "stdout",
     "output_type": "stream",
     "text": [
      "+----------+------------------+------------------+-------------------+-------------------+\n",
      "|product_id|       rating_mean|        rating_std|     sentiment_mean|      sentiment_std|\n",
      "+----------+------------------+------------------+-------------------+-------------------+\n",
      "|B00BURIAOA|               5.0|               NaN|             0.5719|                NaN|\n",
      "|B007SLDF7O| 4.142857142857143|1.0690449676496976| 0.5256571428571428| 0.5056314990753077|\n",
      "|B00OHRYFGC| 3.590909090909091|1.6806770435379084|0.25495454545454543| 0.5948874769369836|\n",
      "|B0027531JI|               2.0|               NaN|             0.3612|                NaN|\n",
      "|B00NOLH4NI|3.5714285714285716|1.9023794624226835| 0.4142142857142857| 0.5769774358053973|\n",
      "|B00JUXPHWE| 4.090909090909091|1.3751033019046572| 0.4617545454545455| 0.5226350588386438|\n",
      "|B00V3RR93U|               3.0|2.8284271247461903|             0.3214| 0.4545282389467128|\n",
      "|B00FAC02MO|               3.0|               0.0|0.41609999999999997| 0.4567909806465097|\n",
      "|B00DPMNNUO|               3.5|2.1213203435596424|            0.35895| 0.8276684873788539|\n",
      "|B00YVVE6AE| 4.666666666666667|0.5773502691896258| 0.6121666666666666| 0.0656330201448427|\n",
      "|B00SB76Z5S|               2.0|1.4142135623730951|             0.0877|0.12402652942012043|\n",
      "|B00X50ICEI| 4.333333333333333|1.1547005383792517|             0.8464|0.17177738500745665|\n",
      "|B00OS8BJ9G|               3.0|               NaN|            -0.2732|                NaN|\n",
      "|B0107QPOFC|               3.0|               1.0|0.20573333333333332| 0.5147626281436263|\n",
      "|B00Z0ME68A|3.0689655172413794|1.6460132459708001| 0.3198241379310345| 0.5016537057253543|\n",
      "|B00R1QYAW0|               4.0|1.4142135623730951|            0.64925| 0.4058085817229597|\n",
      "|B00MGZ120Y|               4.5|0.7071067811865476|            0.77745|0.21573827894001568|\n",
      "|B00MWRNMEK|               3.0|               NaN|            -0.2732|                NaN|\n",
      "|B00PX06PTM|              2.25|1.5000000000000002|            -0.3978| 0.5452610567425479|\n",
      "|B00L7P1PVA|               1.0|               NaN|            -0.6249|                NaN|\n",
      "+----------+------------------+------------------+-------------------+-------------------+\n",
      "only showing top 20 rows\n",
      "\n"
     ]
    }
   ],
   "source": [
    "productIdToRatings = reviewData_wSent.groupBy(\"product_id\").agg(sqlFunc.mean(\"star_rating\").alias(\"rating_mean\"),\\\n",
    "                                                                sqlFunc.stddev(\"star_rating\").alias(\"rating_std\"),\\\n",
    "                                                                sqlFunc.mean(\"review_sent\").alias(\"sentiment_mean\"),\\\n",
    "                                                                sqlFunc.stddev(\"review_sent\").alias(\"sentiment_std\"))\n",
    "productIdToRatings.show()"
   ]
  },
  {
   "cell_type": "code",
   "execution_count": 9,
   "metadata": {},
   "outputs": [
    {
     "name": "stdout",
     "output_type": "stream",
     "text": [
      "1\n"
     ]
    }
   ],
   "source": [
    "print(reviewData_wSent.filter(reviewData_wSent.vine == 1).count())"
   ]
  },
  {
   "cell_type": "code",
   "execution_count": null,
   "metadata": {},
   "outputs": [],
   "source": [
    "productIdToRatingsNotVine = reviewData_wSent.filter(reviewData_wSent.vine == 0).groupBy(\"product_id\")\\\n",
    "                                                                .agg(sqlFunc.mean(\"star_rating\").alias(\"rating_mean\"),\\\n",
    "                                                                sqlFunc.stddev(\"star_rating\").alias(\"rating_std\"),\\\n",
    "                                                                sqlFunc.mean(\"review_sent\").alias(\"sentiment_mean\"),\\\n",
    "                                                                sqlFunc.stddev(\"review_sent\").alias(\"sentiment_std\"))"
   ]
  },
  {
   "cell_type": "code",
   "execution_count": 50,
   "metadata": {},
   "outputs": [
    {
     "name": "stdout",
     "output_type": "stream",
     "text": [
      "+----------+-----------+----------+--------------+-------------+\n",
      "|product_id|rating_mean|rating_std|sentiment_mean|sentiment_std|\n",
      "+----------+-----------+----------+--------------+-------------+\n",
      "|B010S9N6OO|        1.0|       NaN|       -0.8482|          NaN|\n",
      "+----------+-----------+----------+--------------+-------------+\n",
      "\n"
     ]
    }
   ],
   "source": [
    "productIdToRatingsVine = reviewData_wSent.filter(reviewData_wSent.vine == 1).groupBy(\"product_id\")\\\n",
    "                                                                .agg(sqlFunc.mean(\"star_rating\").alias(\"rating_mean\"),\\\n",
    "                                                                sqlFunc.stddev(\"star_rating\").alias(\"rating_std\"),\\\n",
    "                                                                sqlFunc.mean(\"review_sent\").alias(\"sentiment_mean\"),\\\n",
    "                                                                sqlFunc.stddev(\"review_sent\").alias(\"sentiment_std\")).show()"
   ]
  },
  {
   "cell_type": "markdown",
   "metadata": {},
   "source": [
    "# Remove StopWords from reviews"
   ]
  },
  {
   "cell_type": "code",
   "execution_count": 10,
   "metadata": {},
   "outputs": [],
   "source": [
    "import nltk\n",
    "from pyspark.sql.types import ArrayType, DoubleType, StringType\n",
    "from pyspark.ml.feature import StopWordsRemover\n",
    "from pyspark.sql.functions import collect_list,col, udf\n",
    "from nltk.corpus import wordnet\n",
    "\n",
    "# Initialize lemmatizer\n",
    "lemmatizer = nltk.wordnet.WordNetLemmatizer()\n",
    "\n",
    "wordClassesForLemmatizer = {\"N\":wordnet.NOUN,\"R\":wordnet.ADV,\"V\":wordnet.VERB}\n",
    "\n",
    "\n",
    "def lemmatizeUDF(revs): \n",
    "\n",
    "    return [[lemmatizer.lemmatize(w[0],(w[1][0]).lower()) for w in s] for s in revs]\n",
    "\n",
    "def joinStringArrayUDF(revs):\n",
    "    return [\" \".join(rev) for rev in revs]\n",
    "\n",
    "\n",
    "treebankTagger = nltk.data.load('taggers/maxent_treebank_pos_tagger/english.pickle')\n",
    "def tag_df (review):\n",
    "    return treebankTagger.tag(review)\n",
    "\n",
    "tag_udf = udf(tag_df,ArrayType(ArrayType(StringType())))\n",
    "\n",
    "\n",
    "lemmatize_udf = udf(lemmatizeUDF, ArrayType(ArrayType(StringType())))\n",
    "joinStrArr_udf = udf(joinStringArrayUDF, ArrayType(StringType()))\n",
    "\n",
    "# Get product id with reviews\n",
    "idWithReviews = reviewData_wSent.select(\"product_id\",\"review_body\",\"review_sent\",\"star_rating\")\n",
    "\n",
    "# Remove Stop Words from reviews\n",
    "stopWordRemover = StopWordsRemover(inputCol=\"review_body\", outputCol=\"review_noStop\")#, stopWords = stopWords)\n",
    "stopWordsRemoved = stopWordRemover.transform(reviewData_wSent).persist()\n",
    "\n"
   ]
  },
  {
   "cell_type": "markdown",
   "metadata": {},
   "source": [
    "# Filter out words that are not Verbs, Adverbs or Nouns"
   ]
  },
  {
   "cell_type": "code",
   "execution_count": 12,
   "metadata": {},
   "outputs": [],
   "source": [
    "\n",
    "# Perform POS-tagging on reviews\n",
    "stopWordsRemoved = stopWordsRemoved.withColumn(\"review_tagged\", tag_udf(\"review_noStop\"))\n",
    "stopWords_t = stopWordsRemoved.select(\"product_id\",\"review_id\",sqlFunc.explode(\"review_tagged\").alias(\"tagged\"))\n",
    "\n",
    "stopWords_t = stopWords_t.filter(stopWords_t.tagged[1].rlike(\"(VB\\w+|VB)|(RB\\w|\\bRB)|(NN\\w+|NN)\"))\n",
    "\n",
    "\n",
    "#stopWords_t = stopWords_t.select(\"product_id\",\"review_id\",(sqlFunc.element_at(stopWords_t.tagged,1)).alias(\"tagged\"))\n",
    "stopWords_t = stopWords_t.groupBy(\"product_id\",\"review_id\").agg(collect_list(\"tagged\").alias(\"Review_NN_JJ\")).groupBy(\"product_id\").agg(collect_list(\"Review_NN_JJ\").alias(\"review_tagged\"))\n",
    "\n",
    "\n",
    "\n",
    "# Product ID with the aggregated list of reviews\n",
    "idsWithAllReviews = stopWordsRemoved.groupBy(\"product_id\").agg(collect_list(\"review_sent\").alias(\"review_sent\"),\\\n",
    "                                                               collect_list(\"star_rating\").alias(\"star_rating\"))\n",
    "\n",
    "\n",
    "idsWithAllReviews = idsWithAllReviews.join(stopWords_t,on=\"product_id\").persist()\n"
   ]
  },
  {
   "cell_type": "code",
   "execution_count": null,
   "metadata": {},
   "outputs": [],
   "source": [
    "idsWithAllReviews.show()"
   ]
  },
  {
   "cell_type": "code",
   "execution_count": null,
   "metadata": {},
   "outputs": [],
   "source": [
    "stopWords_t.show()"
   ]
  },
  {
   "cell_type": "markdown",
   "metadata": {},
   "source": [
    "# Perform Lemmatization on reviews"
   ]
  },
  {
   "cell_type": "code",
   "execution_count": 13,
   "metadata": {},
   "outputs": [
    {
     "ename": "AttributeError",
     "evalue": "'DataFrame' object has no attribute 'review_tagged'",
     "output_type": "error",
     "traceback": [
      "\u001b[1;31m---------------------------------------------------------------------------\u001b[0m",
      "\u001b[1;31mAttributeError\u001b[0m                            Traceback (most recent call last)",
      "\u001b[1;32m<ipython-input-13-620c221de210>\u001b[0m in \u001b[0;36m<module>\u001b[1;34m\u001b[0m\n\u001b[0;32m      2\u001b[0m \u001b[1;33m\u001b[0m\u001b[0m\n\u001b[0;32m      3\u001b[0m \u001b[1;31m# Perform Lemmatization on all reviews\u001b[0m\u001b[1;33m\u001b[0m\u001b[1;33m\u001b[0m\u001b[1;33m\u001b[0m\u001b[0m\n\u001b[1;32m----> 4\u001b[1;33m \u001b[0midsWithAllReviews\u001b[0m \u001b[1;33m=\u001b[0m \u001b[0midsWithAllReviews\u001b[0m\u001b[1;33m.\u001b[0m\u001b[0mwithColumn\u001b[0m\u001b[1;33m(\u001b[0m\u001b[1;34m\"review_body_agg\"\u001b[0m\u001b[1;33m,\u001b[0m \u001b[0mlemmatize_udf\u001b[0m\u001b[1;33m(\u001b[0m\u001b[0midsWithAllReviews\u001b[0m\u001b[1;33m.\u001b[0m\u001b[0mreview_tagged\u001b[0m\u001b[1;33m)\u001b[0m\u001b[1;33m)\u001b[0m\u001b[1;33m.\u001b[0m\u001b[0mpersist\u001b[0m\u001b[1;33m(\u001b[0m\u001b[1;33m)\u001b[0m\u001b[1;33m\u001b[0m\u001b[1;33m\u001b[0m\u001b[0m\n\u001b[0m\u001b[0;32m      5\u001b[0m \u001b[1;33m\u001b[0m\u001b[0m\n\u001b[0;32m      6\u001b[0m \u001b[0mstopWordsRemoved\u001b[0m\u001b[1;33m.\u001b[0m\u001b[0munpersist\u001b[0m\u001b[1;33m(\u001b[0m\u001b[1;33m)\u001b[0m\u001b[1;33m\u001b[0m\u001b[1;33m\u001b[0m\u001b[0m\n",
      "\u001b[1;32mc:\\users\\andreas\\appdata\\local\\programs\\python\\python37\\lib\\site-packages\\pyspark\\sql\\dataframe.py\u001b[0m in \u001b[0;36m__getattr__\u001b[1;34m(self, name)\u001b[0m\n\u001b[0;32m   1302\u001b[0m         \u001b[1;32mif\u001b[0m \u001b[0mname\u001b[0m \u001b[1;32mnot\u001b[0m \u001b[1;32min\u001b[0m \u001b[0mself\u001b[0m\u001b[1;33m.\u001b[0m\u001b[0mcolumns\u001b[0m\u001b[1;33m:\u001b[0m\u001b[1;33m\u001b[0m\u001b[1;33m\u001b[0m\u001b[0m\n\u001b[0;32m   1303\u001b[0m             raise AttributeError(\n\u001b[1;32m-> 1304\u001b[1;33m                 \"'%s' object has no attribute '%s'\" % (self.__class__.__name__, name))\n\u001b[0m\u001b[0;32m   1305\u001b[0m         \u001b[0mjc\u001b[0m \u001b[1;33m=\u001b[0m \u001b[0mself\u001b[0m\u001b[1;33m.\u001b[0m\u001b[0m_jdf\u001b[0m\u001b[1;33m.\u001b[0m\u001b[0mapply\u001b[0m\u001b[1;33m(\u001b[0m\u001b[0mname\u001b[0m\u001b[1;33m)\u001b[0m\u001b[1;33m\u001b[0m\u001b[1;33m\u001b[0m\u001b[0m\n\u001b[0;32m   1306\u001b[0m         \u001b[1;32mreturn\u001b[0m \u001b[0mColumn\u001b[0m\u001b[1;33m(\u001b[0m\u001b[0mjc\u001b[0m\u001b[1;33m)\u001b[0m\u001b[1;33m\u001b[0m\u001b[1;33m\u001b[0m\u001b[0m\n",
      "\u001b[1;31mAttributeError\u001b[0m: 'DataFrame' object has no attribute 'review_tagged'"
     ]
    }
   ],
   "source": [
    "idsWithAllReviews = stopWordsRemoved.groupBy(\"product_id\").agg(collect_list(\"review_noStop\").alias(\"review_body_agg\"))\n",
    "                                                               \n",
    "# Perform Lemmatization on all reviews\n",
    "idsWithAllReviews = idsWithAllReviews.withColumn(\"review_body_agg\", lemmatize_udf(idsWithAllReviews.review_tagged)).persist()\n",
    "\n",
    "stopWordsRemoved.unpersist()\n",
    "\n",
    "idsWithAllReviews = idsWithAllReviews.drop(\"review_tagged\")\n",
    "\n",
    "idsWithAllReviews = idsWithAllReviews.withColumn(\"review_sent_rating\", sqlFunc.arrays_zip(joinStrArr_udf(\"review_body_agg\").alias(\"review_full\"),\"review_sent\",\"star_rating\")).persist()\n",
    "\n",
    "idsWithAllReviews.show()\n"
   ]
  },
  {
   "cell_type": "code",
   "execution_count": 7,
   "metadata": {},
   "outputs": [
    {
     "name": "stdout",
     "output_type": "stream",
     "text": [
      "+----------+---------------------+\n",
      "|product_id|size(review_body_agg)|\n",
      "+----------+---------------------+\n",
      "|B00QN1T6NM|                  277|\n",
      "+----------+---------------------+\n",
      "\n"
     ]
    }
   ],
   "source": [
    "idsWithAllReviews.filter(idsWithAllReviews.product_id == \"B00QN1T6NM\").select(\"product_id\",sqlFunc.size(\"review_body_agg\")).show()"
   ]
  },
  {
   "cell_type": "markdown",
   "metadata": {},
   "source": [
    "# Saves checkpoint for idsWithAllReviews since this takes a while to process"
   ]
  },
  {
   "cell_type": "code",
   "execution_count": 76,
   "metadata": {},
   "outputs": [],
   "source": [
    "csv_dump =  idsWithAllReviews.withColumn(\"review_sent\", col(\"review_sent\").cast(\"string\"))\n",
    "csv_dump =  csv_dump.withColumn(\"star_rating\", col(\"star_rating\").cast(\"string\"))\n",
    "csv_dump =  csv_dump.withColumn(\"review_body_agg\", col(\"review_body_agg\").cast(\"string\"))\n",
    "csv_dump =  csv_dump.withColumn(\"review_sent_rating\", col(\"review_sent_rating\").cast(\"string\"))\n",
    "\n",
    "csv_dump.write.csv(path=\"C:/Users/Andreas/HHYear4/BDPP/Project/dataCheckpoint1\",sep=\":\",header=True)\n"
   ]
  },
  {
   "cell_type": "code",
   "execution_count": 77,
   "metadata": {},
   "outputs": [
    {
     "name": "stdout",
     "output_type": "stream",
     "text": [
      "+----------+--------------------+--------------------+--------------------+--------------------+\n",
      "|product_id|         review_sent|         star_rating|     review_body_agg|  review_sent_rating|\n",
      "+----------+--------------------+--------------------+--------------------+--------------------+\n",
      "|B0013BW8X2|            [0.2144]|                 [5]|[[push, power, mo...|[[push power mosf...|\n",
      "|B00144PH1S|               [0.0]|                 [5]|[[replace, stolle...|[[replace stollen...|\n",
      "|B001RHVS8I|[0.6249, 0.7783, ...|        [5, 5, 2, 5]|[[doesnt, fit, cb...|[[doesnt fit cbr ...|\n",
      "|B003V8ATMW|            [0.8481]|                 [5]|[[buy, great, pri...|[[buy great price...|\n",
      "|B00470VEZE|            [0.6249]|                 [5]|[[awesome, product]]|[[awesome product...|\n",
      "|B004MYFTE2|               [0.0]|                 [5]|[[yr, old, rookie...|[[yr old rookie u...|\n",
      "|B004XWMY7S|           [-0.4215]|                 [2]|    [[broke, month]]|[[broke month, -0...|\n",
      "|B005G50S1U|            [0.3612]|                 [5]|     [[snug, glove]]|[[snug glove, 0.3...|\n",
      "|B006H4JXNI|               [0.0]|                 [4]|[[work, take, mon...|[[work take money...|\n",
      "|B0086KQS9S|     [0.846, 0.6249]|              [5, 5]|[[watch, gps], [g...|[[watch gps, 0.84...|\n",
      "|B008OEF56S|            [-0.296]|                 [3]|[[faulthave, car,...|[[faulthave car k...|\n",
      "|B008RZ0EQ0|[0.6249, 0.0, -0....|[4, 1, 3, 2, 3, 3...|[[purchase, speak...|[[purchase speake...|\n",
      "|B008XQ92PW|            [0.6249]|                 [4]|     [[work, great]]|[[work great, 0.6...|\n",
      "|B0091M17E6|           [-0.4215]|                 [2]|[[item, break, da...|[[item break day ...|\n",
      "|B00AAB4TU6|               [0.0]|                 [3]|[[product, qualit...|[[product quality...|\n",
      "|B00AQ9O16E|            [0.5719]|                 [5]|[[excellent, prod...|[[excellent produ...|\n",
      "|B00AY7NUW4|           [-0.6223]|                 [3]|[[device, say, ok...|[[device say ok p...|\n",
      "|B00B7IQC6K|            [0.6887]|                 [5]|     [[unit, thank]]|[[unit thank, 0.6...|\n",
      "|B00CDJS8DW|           [-0.4215]|                 [1]|[[ipod, use, tool...|[[ipod use tool b...|\n",
      "|B00CLDWSQS|               [0.0]|                 [5]|[[perfectbest, sc...|[[perfectbest scr...|\n",
      "+----------+--------------------+--------------------+--------------------+--------------------+\n",
      "only showing top 20 rows\n",
      "\n"
     ]
    }
   ],
   "source": [
    "test = spark.read.options(header=True).csv('dataCheckpoint1',sep=\":\")\n",
    "test.show()"
   ]
  },
  {
   "cell_type": "code",
   "execution_count": null,
   "metadata": {},
   "outputs": [],
   "source": [
    "\"\"\"---------------------------------------------------------------------------------------------------------------+\n",
    "|2 issues  -  Once I turned on the circle apps and installed this case,  my battery drained twice as fast as usual.  I ended up turning off the circle apps, which kind of makes the case just a case...  with a hole in it.  Second,  the wireless charging doesn't work.  I have a Motorola 360 watch and a Qi charging pad. The watch charges fine but this case doesn't. But hey, it looks nice.                                                                                                                                                                                     |\n",
    "\n",
    "WITH NN & JJ [issues, circle, apps, case, battery, twice, fast, usual, circle, apps, makes, case, case, hole, second, wireless, doesnt, work, motorola, watch, qi, pad, watch, charges, fine, case, doesnt, hey, looks, nice]\n",
    "\n",
    "WITH VB, RB & NN [issues, turned, circle, apps, installed, case, battery, drained, twice, fast, ended, turning, circle, apps, kind, makes, case, case, hole, second, wireless, charging, doesnt, work, motorola, watch, qi, charging, pad, watch, charges, fine, case, doesnt, hey, looks, nice], \n",
    "\n",
    "issue, turn, circle, apps, instal, case, battery, drain, twice, fast, end, turn, circle, apps, kind, make, case, case, hole, second, wireless, charge, doesnt, work, motorola, watch, qi, charge, pad, watch, charge, fine, case, doesnt, hey, look, nice\n",
    "\n",
    "|Thank you for your dealings and goods Good                                                                                                                                                                                                                                                                                                                                                                                                                                                                                                                                              |\n",
    "WITH NN & JJ [thank, dealings, goods, good]\n",
    "WITH VB, RB & NN [thank, dealings, goods], \n",
    "\n",
    "\n",
    "\n",
    "|A quality case and works good for wireless charging. The case fits tightly and looks original. I'm using an Acker PowerPort Qi wireless charger and have not had any issues.                                                                                                                                                                                                                                                                                                                                                                                                            |\n",
    "WITH NN & JJ [quality, case, works, good, wireless, case, fits, original, im, acker, powerport, qi, wireless, charger, issues]\n",
    "WITH VB, RB & NN [quality, case, works, wireless, charging, case, fits, tightly, looks, im, using, acker, powerport, qi, wireless, charger, issues], \n",
    "\n",
    "\n",
    "\n",
    "|This is amazing!  It is sleek and stylish and exactly what I was looking for.  Bought this and the wireless charger and it charges quickly.  Great for lay me-&#62; no more straining to unplug from the charger in the morning while lying in bed.  I don't know why LG just doesn't sell the phone like this to begin with.  Perfect.                                                                                                                                                                                                                                                 |\n",
    "WITH NN & JJ [sleek, stylish, bought, wireless, charger, charges, great, lay, unplug, charger, morning, dont, lg, doesnt, sell, phone, begin, perfect]\n",
    "WITH VB, RB & NN [amazing, sleek, stylish, exactly, looking, bought, wireless, charger, charges, quickly, lay, straining, unplug, charger, morning, lying, bed, dont, know, doesnt, sell, phone, begin, perfect],\n",
    "\n",
    "\n",
    "\n",
    "\n",
    "|This case worked just fine, and using their yootech wireless charging stand, I had no problems charging my phone in less than 2 hours. However, the patterned back will begin to rub off; after having the case for about a month, the back of the case is now a lot smoother but nonetheless, the case still looks and works great.                                                                                                                                                                                                                                                    |\n",
    "WITH NN & JJ [case, fine, yootech, wireless, stand, problems, phone, less, hours, rub, case, month, case, lot, smoother, nonetheless, case, works, great],\n",
    "WITH VB, RB & NN [case, worked, fine, using, yootech, wireless, charging, stand, problems, charging, phone, hours, however, patterned, back, rub, case, month, back, case, lot, smoother, nonetheless, case, still, looks, works],\n",
    "\n",
    "\n",
    "\n",
    "|Works great with my G4, and cleanly adds a Qi antenna to the phone. And even with the cover folded back, the camera lens is open, so I can use it with a stand/tripod.                                                                                                                                                                                                                                                                                                                                                                                                                  |\n",
    "WITH NN & JJ [works, g, qi, antenna, phone, camera, lens, open, use, standtripod],\n",
    "WITH VB, RB & NN [works, great, g, cleanly, adds, qi, antenna, phone, even, cover, folded, back, camera, lens, use, standtripod], \n",
    "\n",
    "\n",
    "|Great case \n",
    "WITH NN & JJ [great, case]\n",
    "WITH VB, RB & NN [case], \n",
    "\n",
    "\n",
    "|The case arrived quickly and works with my LG wireless charger. Case looks good and keep the phone slim enough to still fit in my side pants pocket.                                                                                                                                                                                                                                                                                                                                                                                                                                    |\n",
    "WITH NN & JJ [case, lg, wireless, charger, case, looks, good, keep, phone, slim, fit, side, pants, pocket], \n",
    "WITH VB, RB & NN [case, arrived, quickly, works, lg, wireless, charger, case, looks, keep, phone, slim, enough, still, side, pants, pocket]\n",
    "\n",
    "\n",
    "|Construction quality seems OK, but does not properly fit phone.  The replacement back is just a bit too small.<br /><br />I ordered this case and ASIN: B00YNIN91M.  They are identical, and neither fit.                                                                                                                                                                                                                                                                                                                                                                               |\n",
    "WITH NN & JJ [construction, quality, ok, fit, phone, replacement, bit, smallbr, br, case, asin, byninm, identical, neither, fit]\n",
    "WITH VB, RB & NN [construction, quality, seems, ok, properly, phone, replacement, back, bit, smallbr, br, ordered, case, asin, byninm, neither, fit]\n",
    "\n",
    "\n",
    "\n",
    "|Fits like a Glove. I spent days looking for a case for my new phone. I wanted a black leather but I could not find 1 with the circle. I purchased the wireless sticker from Yootech, an I am very happy with it. I just wanted something to protect the screen. I knew I could not go wrong buy ordering from Yootech. once again I was not disappointed. Thank you very much Yootech.                                                                                                                                                                                                  |\n",
    "WITH NN & JJ [fits, glove, spent, days, case, new, phone, black, leather, find, circle, wireless, sticker, yootech, happy, something, protect, screen, wrong, buy, yootech, thank, yootech]\n",
    "WITH VB, RB & NN [fits, glove, spent, days, looking, case, phone, wanted, leather, find, circle, purchased, wireless, sticker, yootech, happy, wanted, something, protect, screen, knew, go, buy, ordering, yootech, disappointed, thank, much], \n",
    "\n",
    "\n",
    "\n",
    "\n",
    "|Great case, great value. Fits really well with my G4 and looks good. Still exploring Quick circle apps. Not sure it truly adds much functionality at this time, tend to just open the cover to use the phone rather than trying to operate via the quick circle. Wireless charging can be a bit hit and miss (2 recent occasions where it appeared to be working but the phone was not charged in the morning). Seems to need to be perfectly aligned on the charging station. Not sure if it is an issue with the case or the charger. But given the price it is an excellent purchase.|\n",
    "WITH NN & JJ [great, case, great, value, fits, g, looks, good, quick, circle, apps, functionality, time, tend, open, cover, use, phone, operate, quick, circle, wireless, bit, hit, miss, recent, occasions, phone, morning, seems, station, sure, issue, case, charger, price, excellent, purchase],\n",
    "WITH VB, RB & NN [case, great, value, fits, really, well, looks, still, exploring, quick, circle, apps, sure, truly, adds, much, functionality, time, tend, cover, use, phone, rather, trying, operate, circle, wireless, charging, bit, hit, miss, occasions, appeared, working, phone, charged, morning, seems, need, perfectly, aligned, charging, station, sure, issue, case, charger, given, price, excellent, purchase],\n",
    "\n",
    "\n",
    "\n",
    "\"\"\""
   ]
  },
  {
   "cell_type": "markdown",
   "metadata": {},
   "source": [
    "# Construct N-gram dataframe for reviews"
   ]
  },
  {
   "cell_type": "code",
   "execution_count": 10,
   "metadata": {},
   "outputs": [
    {
     "name": "stdout",
     "output_type": "stream",
     "text": [
      "+----------+--------------------+-------------+\n",
      "|product_id|              ngrams|review_amount|\n",
      "+----------+--------------------+-------------+\n",
      "|9838427853|[[excellent produ...|            1|\n",
      "|B0003032H0|[[quick shipment,...|            1|\n",
      "|B0007KPS0A|[[work hook, hook...|            3|\n",
      "|B000CCZH3G|[[cord longer, lo...|            1|\n",
      "|B000OEMIZW|      [[work charm]]|            1|\n",
      "|B0015A4TQK|[[price great, gr...|            5|\n",
      "|B001CT00BW|[[replacement bat...|            1|\n",
      "|B001GCZAI8|[[keep bottle, bo...|            1|\n",
      "|B0027531JI|[[try use, use ma...|            1|\n",
      "|B002IT1C8U|[[scanner setup, ...|            3|\n",
      "|B003JD27TM|[[charger come, c...|            2|\n",
      "|B00407237W|                [[]]|            1|\n",
      "|B0052CGQNQ|[[seems sturdy, s...|            1|\n",
      "|B0052WESJ0|[[tip tear, tear ...|            1|\n",
      "|B0058RWQFW|    [[quality cute]]|            1|\n",
      "|B0060NG6M2|[[tiny tiny, tiny...|            1|\n",
      "|B006FXUS1C|[[device good, go...|            1|\n",
      "|B007SLDF7O|[[work fine], [it...|            7|\n",
      "|B007SNJZJO|[[didnt work, wor...|            1|\n",
      "|B0085YM6OQ|  [[inverter bring]]|            1|\n",
      "+----------+--------------------+-------------+\n",
      "only showing top 20 rows\n",
      "\n"
     ]
    }
   ],
   "source": [
    "from pyspark.ml.feature import NGram\n",
    "\n",
    "ngram = NGram(n=2, inputCol= \"review_body_agg\", outputCol=\"ngrams\")\n",
    "\n",
    "ngramDF = ngram.transform(idsWithAllReviews.select(\"product_id\",sqlFunc.explode(\"review_body_agg\").alias(\"review_body_agg\")))\n",
    "\n",
    "ngramDF = ngramDF.withColumn(\"ngrams_distinct\", sqlFunc.array_distinct(\"ngrams\"))\n",
    "\n",
    "ngramDF = ngramDF.groupBy(\"product_id\").agg(collect_list(\"ngrams_distinct\").alias(\"ngrams\"))\n",
    "\n",
    "ngramDF = ngramDF.withColumn(\"review_amount\",sqlFunc.size(\"ngrams\"))\n",
    "\n",
    "ngramDF.show()\n"
   ]
  },
  {
   "cell_type": "markdown",
   "metadata": {},
   "source": [
    "# Count frequency of word pairs in reviews for each product"
   ]
  },
  {
   "cell_type": "code",
   "execution_count": 14,
   "metadata": {},
   "outputs": [
    {
     "name": "stdout",
     "output_type": "stream",
     "text": [
      "+----------+-------------+--------------------+\n",
      "|product_id|review_amount|        ngrams_count|\n",
      "+----------+-------------+--------------------+\n",
      "|B005X1Y7I2|          149|[[charge phone, 0...|\n",
      "|B00MQSMEEE|          142|[[charge phone, 0...|\n",
      "|B00JRGOKQ8|          112|[[hold phone, 0.1...|\n",
      "|B00UCZGS6S|           93|[[charge phone, 0...|\n",
      "|B00OT6YUIY|           90|[[work great, 0.1...|\n",
      "|B00N0YUKEO|           90|[[temper glass, 0...|\n",
      "|B00OJE1SG8|           84|[[hold phone, 0.1...|\n",
      "|B00WUDX250|           81|[[sound quality, ...|\n",
      "|B009USAJCC|           78|[[charge phone, 0...|\n",
      "|B00PGJWYJ0|           69|[[work great, 0.1...|\n",
      "|B00JM59JPG|           69|[[charge phone, 0...|\n",
      "|B00EL94RQE|           64|[[tech armor, 0.2...|\n",
      "|B00MLSY6MM|           64|[[usb cable, 0.125]]|\n",
      "|B00WXIIQ1C|           60|[[charger work, 0...|\n",
      "|B00XKZJ5T4|           59|[[cable work, 0.1...|\n",
      "|B00KW70WDG|           58|[[smart watch, 0....|\n",
      "|B00N2T7U90|           58|[[charge phone, 0...|\n",
      "|B00QTE09SY|           57|[[work great, 0.1...|\n",
      "|B00UV3MCK2|           57|[[work great, 0.1...|\n",
      "|B00IGISUTG|           57|[[drop phone, 0.1...|\n",
      "+----------+-------------+--------------------+\n",
      "only showing top 20 rows\n",
      "\n"
     ]
    }
   ],
   "source": [
    "counted = ngramDF.select(\"product_id\",\"review_amount\",sqlFunc.explode(sqlFunc.flatten(\"ngrams\")).alias(\"ngrams\")).groupBy(\"product_id\",\"review_amount\",\"ngrams\").count().orderBy(\"count\",ascending=False)\n",
    "\n",
    "counted = counted.withColumnRenamed(\"count\",\"frequency\")\n",
    "counted = counted.withColumn(\"frequency\", sqlFunc.round(counted.frequency/counted.review_amount,4))\n",
    "\n",
    "\n",
    "counted = counted.filter((counted.ngrams != \"screen protector\") & (counted.frequency >= 0.1))\n",
    "\n",
    "counted = counted.groupBy(\"product_id\",\"review_amount\").agg(sqlFunc.arrays_zip(collect_list(\"ngrams\"),collect_list(\"frequency\")).alias(\"ngrams_count\"))\n",
    "\n",
    "counted.orderBy(\"review_amount\",ascending=False).show()\n"
   ]
  },
  {
   "cell_type": "markdown",
   "metadata": {},
   "source": [
    "# Join N-gram count with idsWithAllReviews"
   ]
  },
  {
   "cell_type": "code",
   "execution_count": 15,
   "metadata": {},
   "outputs": [
    {
     "name": "stdout",
     "output_type": "stream",
     "text": [
      "+----------+-------------+--------------------+--------------------+--------------------+--------------------+--------------------+\n",
      "|product_id|review_amount|        ngrams_count|         review_sent|         star_rating|     review_body_agg|  review_sent_rating|\n",
      "+----------+-------------+--------------------+--------------------+--------------------+--------------------+--------------------+\n",
      "|B005X1Y7I2|          149|[[charge phone, 0...|[0.0, 0.5719, 0.6...|[5, 5, 5, 4, 5, 5...|[[thing, keep, ba...|[[thing keep back...|\n",
      "|B00MQSMEEE|          142|[[charge phone, 0...|[0.6249, -0.1531,...|[5, 5, 2, 5, 5, 5...|[[excellent], [ch...|[[excellent, 0.62...|\n",
      "|B00JRGOKQ8|          112|[[hold phone, 0.1...|[0.8779, 0.4404, ...|[5, 5, 1, 5, 5, 3...|[[car, mount, yea...|[[car mount year ...|\n",
      "|B00UCZGS6S|           93|[[charge phone, 0...|[0.34, 0.6249, 0....|[2, 4, 4, 5, 4, 3...|[[work], [receive...|[[work, 0.34, 2],...|\n",
      "|B00N0YUKEO|           90|[[temper glass, 0...|[0.7906, 0.8519, ...|[5, 5, 5, 4, 1, 5...|[[work, phone, mi...|[[work phone minu...|\n",
      "|B00OT6YUIY|           90|[[work great, 0.1...|[0.9299, 0.5719, ...|[5, 5, 5, 5, 5, 5...|[[amaze, product,...|[[amaze product w...|\n",
      "|B00OJE1SG8|           84|[[hold phone, 0.1...|[0.6249, 0.886, 0...|[5, 5, 5, 4, 5, 5...|[[excellent, prod...|[[excellent produ...|\n",
      "|B00WUDX250|           81|[[sound quality, ...|[-0.4449, 0.9931,...|[2, 4, 5, 4, 5, 5...|[[work, week, sto...|[[work week stop ...|\n",
      "|B009USAJCC|           78|[[charge phone, 0...|[0.4144, 0.5656, ...|[5, 1, 5, 5, 5, 5...|[[product, amaze,...|[[product amaze p...|\n",
      "|B00PGJWYJ0|           69|[[work great, 0.1...|[0.892, 0.762, 0....|[5, 5, 5, 5, 5, 5...|[[product, magnet...|[[product magnet ...|\n",
      "|B00JM59JPG|           69|[[charge phone, 0...|[0.8702, 0.4404, ...|[5, 5, 5, 5, 2, 4...|[[understand, bat...|[[understand batt...|\n",
      "|B00EL94RQE|           64|[[tech armor, 0.2...|[0.6249, 0.8553, ...|[5, 5, 5, 5, 5, 5...|[[awesome, screen...|[[awesome screen ...|\n",
      "|B00MLSY6MM|           64|[[usb cable, 0.125]]|[0.9001, 0.6249, ...|[5, 5, 5, 5, 5, 5...|[[purchase, cable...|[[purchase cable ...|\n",
      "|B00WXIIQ1C|           60|[[charger work, 0...|[0.5719, 0.6249, ...|[5, 5, 5, 5, 1, 1...|[[factory, plug, ...|[[factory plug st...|\n",
      "|B00XKZJ5T4|           59|[[cable work, 0.1...|[0.2732, 0.807, 0...|[5, 5, 5, 5, 5, 5...|[[onyxvolt, mass,...|[[onyxvolt mass o...|\n",
      "|B00N2T7U90|           58|[[charge phone, 0...|[0.1761, 0.91, 0....|[5, 5, 5, 5, 5, 2...|[[work, expect, c...|[[work expect cha...|\n",
      "|B00KW70WDG|           58|[[smart watch, 0....|[0.6249, 0.2006, ...|[4, 4, 5, 1, 3, 2...|[[work, expect, b...|[[work expect buy...|\n",
      "|B00IGISUTG|           57|[[drop phone, 0.1...|[0.9246, 0.6249, ...|[4, 5, 5, 4, 5, 5...|[[advertise], [pl...|[[advertise, 0.92...|\n",
      "|B00QTE09SY|           57|[[work great, 0.1...|[0.5233, 0.7574, ...|[5, 5, 5, 5, 4, 5...|[[use, office, ch...|[[use office char...|\n",
      "|B00UV3MCK2|           57|[[work great, 0.1...|[0.7346, 0.2263, ...|[5, 5, 5, 1, 5, 4...|[[selfie, stick, ...|[[selfie stick bl...|\n",
      "+----------+-------------+--------------------+--------------------+--------------------+--------------------+--------------------+\n",
      "only showing top 20 rows\n",
      "\n"
     ]
    }
   ],
   "source": [
    "reviewsWithNgrams = counted.join(idsWithAllReviews,on=\"product_id\")\n",
    "reviewsWithNgrams.orderBy(reviewsWithNgrams.review_amount,ascending=False).show()"
   ]
  },
  {
   "cell_type": "code",
   "execution_count": 19,
   "metadata": {},
   "outputs": [
    {
     "name": "stdout",
     "output_type": "stream",
     "text": [
      "27\n",
      "+----------+-------------+--------------------+--------------------+--------------------+--------------------+--------------------+\n",
      "|product_id|review_amount|        ngrams_count|         review_sent|         star_rating|     review_body_agg|  review_sent_rating|\n",
      "+----------+-------------+--------------------+--------------------+--------------------+--------------------+--------------------+\n",
      "|B005X1Y7I2|          149|[[charge phone, 0...|[0.0, 0.5719, 0.6...|[5, 5, 5, 4, 5, 5...|[[thing, keep, ba...|[[thing keep back...|\n",
      "|B00MQSMEEE|          142|[[charge phone, 0...|[0.6249, -0.1531,...|[5, 5, 2, 5, 5, 5...|[[excellent], [ch...|[[excellent, 0.62...|\n",
      "|B00JRGOKQ8|          112|[[hold phone, 0.1...|[0.8779, 0.4404, ...|[5, 5, 1, 5, 5, 3...|[[car, mount, yea...|[[car mount year ...|\n",
      "|B00UCZGS6S|           93|[[charge phone, 0...|[0.34, 0.6249, 0....|[2, 4, 4, 5, 4, 3...|[[work], [receive...|[[work, 0.34, 2],...|\n",
      "|B00OT6YUIY|           90|[[work great, 0.1...|[0.9299, 0.5719, ...|[5, 5, 5, 5, 5, 5...|[[amaze, product,...|[[amaze product w...|\n",
      "|B00N0YUKEO|           90|[[temper glass, 0...|[0.7906, 0.8519, ...|[5, 5, 5, 4, 1, 5...|[[work, phone, mi...|[[work phone minu...|\n",
      "|B00OJE1SG8|           84|[[hold phone, 0.1...|[0.6249, 0.886, 0...|[5, 5, 5, 4, 5, 5...|[[excellent, prod...|[[excellent produ...|\n",
      "|B00WUDX250|           81|[[sound quality, ...|[-0.4449, 0.9931,...|[2, 4, 5, 4, 5, 5...|[[work, week, sto...|[[work week stop ...|\n",
      "|B009USAJCC|           78|[[charge phone, 0...|[0.4144, 0.5656, ...|[5, 1, 5, 5, 5, 5...|[[product, amaze,...|[[product amaze p...|\n",
      "|B00PGJWYJ0|           69|[[work great, 0.1...|[0.892, 0.762, 0....|[5, 5, 5, 5, 5, 5...|[[product, magnet...|[[product magnet ...|\n",
      "|B00JM59JPG|           69|[[charge phone, 0...|[0.8702, 0.4404, ...|[5, 5, 5, 5, 2, 4...|[[understand, bat...|[[understand batt...|\n",
      "|B00EL94RQE|           64|[[tech armor, 0.2...|[0.6249, 0.8553, ...|[5, 5, 5, 5, 5, 5...|[[awesome, screen...|[[awesome screen ...|\n",
      "|B00MLSY6MM|           64|[[usb cable, 0.125]]|[0.9001, 0.6249, ...|[5, 5, 5, 5, 5, 5...|[[purchase, cable...|[[purchase cable ...|\n",
      "|B00WXIIQ1C|           60|[[charger work, 0...|[0.5719, 0.6249, ...|[5, 5, 5, 5, 1, 1...|[[factory, plug, ...|[[factory plug st...|\n",
      "|B00XKZJ5T4|           59|[[cable work, 0.1...|[0.2732, 0.807, 0...|[5, 5, 5, 5, 5, 5...|[[onyxvolt, mass,...|[[onyxvolt mass o...|\n",
      "|B00N2T7U90|           58|[[charge phone, 0...|[0.1761, 0.91, 0....|[5, 5, 5, 5, 5, 2...|[[work, expect, c...|[[work expect cha...|\n",
      "|B00KW70WDG|           58|[[smart watch, 0....|[0.6249, 0.2006, ...|[4, 4, 5, 1, 3, 2...|[[work, expect, b...|[[work expect buy...|\n",
      "|B00UV3MCK2|           57|[[work great, 0.1...|[0.7346, 0.2263, ...|[5, 5, 5, 1, 5, 4...|[[selfie, stick, ...|[[selfie stick bl...|\n",
      "|B00IGISUTG|           57|[[drop phone, 0.1...|[0.9246, 0.6249, ...|[4, 5, 5, 4, 5, 5...|[[advertise], [pl...|[[advertise, 0.92...|\n",
      "|B00QTE09SY|           57|[[work great, 0.1...|[0.5233, 0.7574, ...|[5, 5, 5, 5, 4, 5...|[[use, office, ch...|[[use office char...|\n",
      "+----------+-------------+--------------------+--------------------+--------------------+--------------------+--------------------+\n",
      "only showing top 20 rows\n",
      "\n"
     ]
    }
   ],
   "source": [
    "\n",
    "reviewsWithNgrams_filtered = reviewsWithNgrams.filter(reviewsWithNgrams.review_amount > 50)\n",
    "\n",
    "print(reviewsWithNgrams_filtered.count())\n",
    "reviewsWithNgrams_filtered.orderBy(reviewsWithNgrams_filtered.review_amount,ascending=False).show()"
   ]
  },
  {
   "cell_type": "code",
   "execution_count": 20,
   "metadata": {},
   "outputs": [
    {
     "name": "stdout",
     "output_type": "stream",
     "text": [
      "Calculating mean sentiments and ratings for ngrams\n",
      "Data extraction 1\n",
      "Data extraction 2\n",
      "Data extraction 4\n",
      "Converting to DF\n",
      "+----------+--------------------+--------------------+--------------------+--------------------+--------------------+\n",
      "|product_id|        ngrams_count|      ngramSent_mean|       ngramSent_std|    ngramRating_mean|     ngramRating_std|\n",
      "+----------+--------------------+--------------------+--------------------+--------------------+--------------------+\n",
      "|B00QTE09SY|[[work great, 0.1...|[0.39562857142857...|[0.40259794447806...| [4.714285714285714]|[0.6998542122237652]|\n",
      "|B00KW70WDG|[[smart watch, 0....|[0.4750333333333333]|[0.39731073761254...|[3.4444444444444446]|[1.4229164972072998]|\n",
      "|B00MQSMEEE|[[charge phone, 0...|[0.37188333333333...|[0.38122861215053...| [4.888888888888889]|[0.31426968052735...|\n",
      "|B00WUDX250|[[sound quality, ...|[0.49654000000000...|[0.5729830885229802]| [4.266666666666667]|  [1.18133634311129]|\n",
      "|B00PGJWYJ0|[[work great, 0.1...|[0.67202857142857...|[0.22456956742231...|[4.71428571428571...|[0.45175395145262...|\n",
      "|B00VMPVQDC|[[stop work, 0.12...|[0.04882857142857...|[0.5880935001323847]|[1.7142857142857142]|[1.3850513878332367]|\n",
      "|B00FO0IHMY|[[sound quality, ...|[0.6161714285714286]|[0.41146957434571...| [4.428571428571429]|[1.3997084244475304]|\n",
      "|B00UCZGS6S|[[charge phone, 0...|[0.16563999999999...|[0.6095012636574267]|               [3.1]|[1.6401219466856725]|\n",
      "|B009USAJCC|[[charge phone, 0...|[0.5544727272727272]|[0.2941807981216161]| [4.636363636363637]|[1.1499191491521379]|\n",
      "|B00OT6YUIY|[[work great, 0.1...|[0.62440833333333...|[0.31833273592875...|[5.0, 4.888888888...|[0.0, 0.314269680...|\n",
      "|B00XKZJ5T4|[[cable work, 0.1...|            [0.2736]|[0.6929637611633919]|[3.5714285714285716]| [1.178030178747903]|\n",
      "|B00IGISUTG|[[drop phone, 0.1...|[0.64477272727272...|[0.29505612129007...|[4.81818181818181...|[0.38569460791993...|\n",
      "|B00N2T7U90|[[charge phone, 0...|[0.6347099999999999]|[0.20344421569560...|               [4.8]|[0.39999999999999...|\n",
      "|B00WXIIQ1C|[[charger work, 0...|[0.30998333333333...|[0.3062204348540806]|               [5.0]|               [0.0]|\n",
      "|B00BT8L2MW|[[drop phone, 0.1...|[0.6298125, 0.345...|[0.30014000248842...|         [4.75, 4.0]|[0.43301270189221...|\n",
      "|B005X1Y7I2|[[charge phone, 0...|          [0.535235]|[0.31601397639186...|               [4.9]|[0.43588989435406...|\n",
      "|B00EL94RQE|[[tech armor, 0.2...|[0.65655, 0.69100...|[0.22888331010114...|[4.5, 4.615384615...|[1.11803398874989...|\n",
      "|B00UV3MCK2|[[work great, 0.1...|[0.6119500000000001]| [0.208929084858954]|               [5.0]|               [0.0]|\n",
      "|B00N0YUKEO|[[temper glass, 0...|[0.5467199999999999]|[0.35685585829575...|               [4.8]|               [0.6]|\n",
      "|B00OJE1SG8|[[hold phone, 0.1...|[0.6387111111111111]|[0.44766860869383...| [4.666666666666667]|[0.6666666666666666]|\n",
      "+----------+--------------------+--------------------+--------------------+--------------------+--------------------+\n",
      "only showing top 20 rows\n",
      "\n",
      "None\n"
     ]
    }
   ],
   "source": [
    "import numpy as np\n",
    "\n",
    "\n",
    "def calc_meanAndStd_sent_rating(reviews,ngrams,sentiments,ratings):\n",
    "    \n",
    "    ngram_vals= {}\n",
    "    for ngram in ngrams:\n",
    "        ngram_vals[ngram] = [[],[]]\n",
    "        temp_sents = []\n",
    "        temp_ratings = []\n",
    "        for index, review in enumerate(reviews):\n",
    "            if review[0] != None:\n",
    "                if ngram[0] in review[0]:\n",
    "                    temp_sents.append(review[1])\n",
    "                    temp_ratings.append(review[2])\n",
    "                    #temp_sents.append(sentiments[index])\n",
    "                    #temp_ratings.append(ratings[index])\n",
    "\n",
    "        ngram_vals[ngram][0].append(float(np.mean(temp_sents)))\n",
    "        ngram_vals[ngram][0].append(float(np.std(temp_sents)))\n",
    "        \n",
    "        ngram_vals[ngram][1].append(float(np.mean(temp_ratings)))\n",
    "        ngram_vals[ngram][1].append(float(np.std(temp_ratings)))\n",
    "                \n",
    "\n",
    "    return ngram_vals\n",
    "    \n",
    "print(\"Calculating mean sentiments and ratings for ngrams\")\n",
    "reviewsWithNgramSent = reviewsWithNgrams_filtered.rdd.map(lambda x: (x.product_id,calc_meanAndStd_sent_rating(x.review_sent_rating,x.ngrams_count,x.review_sent,x.star_rating)))\n",
    "\n",
    "print(\"Data extraction 1\")\n",
    "reviewsWithNgramSent = reviewsWithNgramSent.map(lambda x: (x[0], list(x[1].keys()),list(x[1].values())))\n",
    "\n",
    "print(\"Data extraction 2\")\n",
    "reviewsWithNgramSent = reviewsWithNgramSent.map(lambda x: (x[0],x[1], np.array(x[2])[:,0].tolist() , np.array(x[2])[:,1].tolist()))\n",
    "\n",
    "print(\"Data extraction 4\")\n",
    "reviewsWithNgramSent = reviewsWithNgramSent.map(lambda x: (x[0],x[1], np.array(x[2])[:,0].tolist() ,np.array(x[2])[:,1].tolist(), np.array(x[3])[:,0].tolist(),np.array(x[3])[:,1].tolist()))\n",
    "\n",
    "schema = [\"product_id\", \"ngrams_count\",\"ngramSent_mean\",\"ngramSent_std\",\"ngramRating_mean\",\"ngramRating_std\"]\n",
    "\n",
    "print(\"Converting to DF\")\n",
    "reviewsWithNgramSent = reviewsWithNgramSent.toDF(schema).cache()\n",
    "\n",
    "print(reviewsWithNgramSent.show())\n"
   ]
  },
  {
   "cell_type": "code",
   "execution_count": 34,
   "metadata": {},
   "outputs": [
    {
     "data": {
      "text/plain": [
       "[<matplotlib.lines.Line2D at 0x23779b24648>]"
      ]
     },
     "execution_count": 34,
     "metadata": {},
     "output_type": "execute_result"
    },
    {
     "data": {
      "image/png": "[encoded data removed]",
      "text/plain": [
       "<Figure size 432x288 with 1 Axes>"
      ]
     },
     "metadata": {
      "needs_background": "light"
     },
     "output_type": "display_data"
    }
   ],
   "source": [
    "import matplotlib.pyplot as plt\n",
    "import scipy.stats as stats\n",
    "\n",
    "productData = productIdToRatings.filter(productIdToRatings.product_id == \"B00VMPVQDC\").first()\n",
    "product_ratingMean = productData.rating_mean\n",
    "product_ratingStd = productData.rating_std\n",
    "product_sentimentMean = productData.sentiment_mean\n",
    "product_sentimentStd = productData.sentiment_std\n",
    "mu = product_sentimentStd**2\n",
    "x = np.linspace(mu - 3*product_sentimentStd, mu + 3*product_sentimentStd, 100)\n",
    "f = stats.norm.pdf(x, product_sentimentMean,product_sentimentStd)\n",
    "plt.plot(x,f)\n",
    "    "
   ]
  },
  {
   "cell_type": "code",
   "execution_count": 48,
   "metadata": {},
   "outputs": [
    {
     "data": {
      "image/png": "[encoded data removed]",
      "text/plain": [
       "<Figure size 432x288 with 2 Axes>"
      ]
     },
     "metadata": {
      "needs_background": "light"
     },
     "output_type": "display_data"
    }
   ],
   "source": [
    "from scipy.stats import norm\n",
    "\n",
    "fig, ax = plt.subplots(2,1)\n",
    "\n",
    "\n",
    "x_axis = np.arange(-1, 1, 0.001)\n",
    "# Mean = 0, SD = 2.\n",
    "ax[0].fill_between(x_axis, norm.pdf(x_axis,product_sentimentMean,product_sentimentStd),alpha=0.6,facecolor=\"blue\")\n",
    "\n",
    "x_axis = np.arange(0, 5, 0.001)\n",
    "# Mean = 0, SD = 2.\n",
    "ax[1].fill_between(x_axis, norm.pdf(x_axis,product_sentimentMean,product_sentimentStd),alpha=0.6,facecolor=\"blue\")\n",
    "ax[1].\n",
    "#plt.plot()\n",
    "#plt.plot()\n",
    "plt.show()"
   ]
  },
  {
   "cell_type": "code",
   "execution_count": 65,
   "metadata": {},
   "outputs": [
    {
     "data": {
      "text/plain": [
       "<matplotlib.collections.PolyCollection at 0x2377c1e9388>"
      ]
     },
     "execution_count": 65,
     "metadata": {},
     "output_type": "execute_result"
    },
    {
     "data": {
      "image/png": "[encoded data removed]",
      "text/plain": [
       "<Figure size 1080x1080 with 3 Axes>"
      ]
     },
     "metadata": {
      "needs_background": "light"
     },
     "output_type": "display_data"
    }
   ],
   "source": [
    "from matplotlib import gridspec\n",
    "fig = plt.figure(figsize=(15, 15)) \n",
    "\n",
    "gs = gridspec.GridSpec(6, 6)#, width_ratios=[2, 1]) \n",
    "f8_ax1 = fig.add_subplot(gs[:4, :])\n",
    "f8_ax2 = fig.add_subplot(gs[4:,0:3])\n",
    "f8_ax3 = fig.add_subplot(gs[4:,3:])\n",
    "#ax0 = plt.subplot(gs[0])\n",
    "\n",
    "f8_ax1.fill_between(x_axis, norm.pdf(x_axis,product_sentimentMean,product_sentimentStd),alpha=0.6,facecolor=\"blue\")\n",
    "\n",
    "#ax1 = plt.subplot(gs[1])\n",
    "\n",
    "f8_ax2.fill_between(x_axis, norm.pdf(x_axis,product_sentimentMean,product_sentimentStd),alpha=0.6,facecolor=\"red\")\n",
    "f8_ax3.fill_between(x_axis, norm.pdf(x_axis,product_sentimentMean,product_sentimentStd),alpha=0.6,facecolor=\"green\")"
   ]
  },
  {
   "cell_type": "code",
   "execution_count": 74,
   "metadata": {},
   "outputs": [],
   "source": []
  },
  {
   "cell_type": "code",
   "execution_count": 84,
   "metadata": {},
   "outputs": [
    {
     "data": {
      "image/png": "[encoded data removed]",
      "text/plain": [
       "<Figure size 1440x1440 with 2 Axes>"
      ]
     },
     "metadata": {
      "needs_background": "light"
     },
     "output_type": "display_data"
    }
   ],
   "source": [
    "import matplotlib.pyplot as plt\n",
    "import numpy as np\n",
    "from adjustText import adjust_text\n",
    "\n",
    "def plot_product_ngrams(product_id):\n",
    "    \n",
    "    plt.figure(figsize=(20,20))\n",
    "    \n",
    "    plt.rcParams.update({'font.size': 14})\n",
    "    \n",
    "    \n",
    "    \n",
    "    selectedProductNgrams = reviewsWithNgramSent.filter(reviewsWithNgramSent.product_id == product_id)\n",
    "    \n",
    "    # Get data for product sentiment and rating-plot\n",
    "    #productData = productIdToRatings.filter(productIdToRatings.product_id == product_id).first()\n",
    "    #product_ratingMean = productData.rating_mean\n",
    "    #product_ratingStd = productData.rating_std\n",
    "    #product_sentimentMean = productData.sentiment_mean\n",
    "    #product_sentimentStd = productData.sentiment_std\n",
    "    \n",
    "    \n",
    "    \n",
    "    # Get data for ngram-count subplot\n",
    "    ngrams_count = np.array(selectedProductNgrams.select(\"ngrams_count\").collect()[0][0])\n",
    "    ngrams = ngrams_count[:,0]\n",
    "    ngram_freq = ngrams_count[:,1].astype(np.float) * 100\n",
    "    ngram_sent = np.array(selectedProductNgrams.select(\"ngramSent_mean\").collect()[0][0])\n",
    "    ngram_rating = np.array(selectedProductNgrams.select(\"ngramRating_mean\").collect()[0][0])\n",
    "\n",
    "    product_name = productIdToTitle.filter(productIdToTitle.product_id == product_id).select(\"product_title\").collect()[0].product_title\n",
    "\n",
    "    plt.scatter(ngram_sent,ngram_rating,s=200,c=ngram_freq,edgecolors=\"black\",alpha=0.8,cmap=\"Blues\")\n",
    "    #plt.xlim(-1.1,1.1)\n",
    "    #plt.ylim(0,5.5)\n",
    "    plt.xlabel(\"Mean review sentimate\")\n",
    "    plt.ylabel(\"Mean review rating\")\n",
    "    plt.title(product_name)\n",
    "    \n",
    "    colorbar = plt.colorbar()\n",
    "    colorbar.set_label(\"Percentage of reviews containing the ngram\")\n",
    "    \n",
    "    texts = []\n",
    "    for i ,ngram in enumerate(ngrams):\n",
    "        texts.append(plt.text(ngram_sent[i],ngram_rating[i],ngram))\n",
    "        \n",
    "    adjust_text(texts, expand_text=(1.5,1.5),expand_points=(1.5,1.5), arrowprops=dict(arrowstyle=\"-\", color='black'))\n",
    "    \n",
    "        \n",
    "plot_product_ngrams(\"B00OT6YUIY\")"
   ]
  },
  {
   "cell_type": "code",
   "execution_count": 83,
   "metadata": {},
   "outputs": [
    {
     "name": "stdout",
     "output_type": "stream",
     "text": [
      "['B00OT6YUIY', 'B00IGISUTG', 'B00BT8L2MW', 'B00PGJWYJ0', 'B00EL94RQE', 'B00JRGOKQ8', 'B00QTE09SY', 'B00WUDX250', 'B00MQSMEEE', 'B00UCZGS6S', 'B00XKZJ5T4', 'B00VMPVQDC', 'B00FO0IHMY', 'B005X1Y7I2', 'B009USAJCC', 'B00URUJWPW', 'B00WXIIQ1C', 'B00N2T7U90', 'B00UV3MCK2', 'B00N0YUKEO']\n"
     ]
    }
   ],
   "source": [
    "\n",
    "top20Prod = reviewsWithNgramSent.orderBy(sqlFunc.size(reviewsWithNgramSent.ngrams_count),ascending=False).take(20)\n",
    "\n",
    "top20ProdIDs = []\n",
    "\n",
    "for prod in top20Prod:\n",
    "    top20ProdIDs.append(prod.product_id)\n",
    "print(top20ProdIDs)"
   ]
  },
  {
   "cell_type": "code",
   "execution_count": 44,
   "metadata": {},
   "outputs": [
    {
     "data": {
      "application/vnd.jupyter.widget-view+json": {
       "model_id": "e589c77cdfdb4bd7a272af2a3868e9a5",
       "version_major": 2,
       "version_minor": 0
      },
      "text/plain": [
       "interactive(children=(Dropdown(description='product_id', options=('B00VMPVQDC', 'B00N2T7U90', 'B00BT8L2MW', 'B…"
      ]
     },
     "metadata": {},
     "output_type": "display_data"
    }
   ],
   "source": [
    "from ipywidgets import interact, interactive, fixed, interact_manual\n",
    "import ipywidgets as widgets\n",
    "from IPython.display import display as disp\n",
    "\n",
    "    \n",
    "interact(plot_product_ngrams, product_id = top20ProdIDs);"
   ]
  }
 ],
 "metadata": {
  "kernelspec": {
   "display_name": "Python 3",
   "language": "python",
   "name": "python3"
  },
  "language_info": {
   "codemirror_mode": {
    "name": "ipython",
    "version": 3
   },
   "file_extension": ".py",
   "mimetype": "text/x-python",
   "name": "python",
   "nbconvert_exporter": "python",
   "pygments_lexer": "ipython3",
   "version": "3.7.5"
  }
 },
 "nbformat": 4,
 "nbformat_minor": 4
}
